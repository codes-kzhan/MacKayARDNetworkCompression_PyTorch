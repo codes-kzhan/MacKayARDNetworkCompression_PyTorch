{
 "cells": [
  {
   "cell_type": "code",
   "execution_count": 1,
   "metadata": {},
   "outputs": [
    {
     "name": "stdout",
     "output_type": "stream",
     "text": [
      "C:\\Users\\pearl\\Anaconda3\\envs\\pytorchEnv\\python.exe\n",
      "0.4.0\n",
      "0.2.1\n"
     ]
    }
   ],
   "source": [
    "import sys\n",
    "print(sys.executable)\n",
    "import torch\n",
    "print (torch.__version__)\n",
    "import torchvision\n",
    "print(torchvision.__version__)\n"
   ]
  },
  {
   "cell_type": "code",
   "execution_count": 2,
   "metadata": {},
   "outputs": [],
   "source": [
    "import torch \n",
    "torch.cuda.set_device(0)"
   ]
  },
  {
   "cell_type": "code",
   "execution_count": 3,
   "metadata": {},
   "outputs": [],
   "source": [
    "import argparse\n",
    "parser=argparse.ArgumentParser()\n",
    "FLAGS=parser.parse_args(args=[])\n",
    "FLAGS.batchsize=128\n",
    "FLAGS.w_printepoch=1\n",
    "FLAGS.init_lr=1e-5\n",
    "FLAGS.lrchange=0.9\n",
    "FLAGS.BreakBasedLr_lr=1e-8\n",
    "FLAGS.init_alpha=0\n",
    "\n",
    "\n",
    "FLAGS.azepoch=5\n",
    "FLAGS.w_epoch=1000\n",
    "FLAGS.alpha_inf= 1e+13\n",
    "\n",
    "FLAGS.datafold='../data' \n",
    "FLAGS.save_name='cifar100_vggG5_ard_load'\n",
    "FLAGS.start_ckpt='../baseline/cifar100/crop_300/last_epoch.pth'"
   ]
  },
  {
   "cell_type": "code",
   "execution_count": 4,
   "metadata": {},
   "outputs": [],
   "source": [
    "import torch\n",
    "import torchvision.datasets\n",
    "import torchvision.transforms\n",
    "import torch.nn\n",
    "import torch.autograd\n",
    "import math\n",
    "import random\n",
    "import numpy\n",
    "import copy\n",
    "import operator\n",
    "\n",
    "random.seed(1)\n",
    "numpy.random.seed(1)\n",
    "torch.manual_seed(1)\n",
    "torch.cuda.manual_seed_all(1)"
   ]
  },
  {
   "cell_type": "code",
   "execution_count": 5,
   "metadata": {},
   "outputs": [],
   "source": [
    "crop=torchvision.transforms.RandomCrop(32, 4)\n",
    "flip=torchvision.transforms.RandomHorizontalFlip()\n",
    "totensor=torchvision.transforms.ToTensor()\n",
    "normalize = torchvision.transforms.Normalize(\n",
    "    mean=[0.485, 0.456, 0.406], std=[0.229, 0.224, 0.225])\n",
    "\n",
    "train_tfms = torchvision.transforms.Compose([crop,flip,totensor, normalize])\n",
    "test_tfms=torchvision.transforms.Compose([totensor, normalize])"
   ]
  },
  {
   "cell_type": "code",
   "execution_count": 6,
   "metadata": {},
   "outputs": [
    {
     "name": "stdout",
     "output_type": "stream",
     "text": [
      "len(train_dataset) 50000\n",
      "len(test_dataset) 10000\n"
     ]
    }
   ],
   "source": [
    "train_dataset=torchvision.datasets.CIFAR100(root= FLAGS.datafold, train=True, transform=train_tfms, download=False)\n",
    "test_dataset=torchvision.datasets.CIFAR100(root= FLAGS.datafold, train=False, transform=test_tfms, download=False)\n",
    "print('len(train_dataset)',len(train_dataset))\n",
    "print('len(test_dataset)',len(test_dataset))\n",
    "N=len(train_dataset)"
   ]
  },
  {
   "cell_type": "code",
   "execution_count": 7,
   "metadata": {},
   "outputs": [],
   "source": [
    "import torch.utils.data.dataset\n",
    "import torch.utils.data\n",
    "import torch\n",
    "\n",
    "\n",
    "test_loader=torch.utils.data.DataLoader(test_dataset,batch_size=FLAGS.batchsize )\n",
    "train_loader=torch.utils.data.DataLoader(train_dataset, batch_size=FLAGS.batchsize,shuffle=True) \n",
    "\n"
   ]
  },
  {
   "cell_type": "code",
   "execution_count": 8,
   "metadata": {},
   "outputs": [
    {
     "name": "stdout",
     "output_type": "stream",
     "text": [
      "torch.Size([128, 3, 32, 32])\n",
      "torch.Size([128])\n"
     ]
    }
   ],
   "source": [
    "for ibatch, (input_, target) in enumerate(train_loader):\n",
    "    print(input_.size())\n",
    "    print(target.size())\n",
    "    break"
   ]
  },
  {
   "cell_type": "code",
   "execution_count": 9,
   "metadata": {},
   "outputs": [],
   "source": [
    "class AverageMeter(object):\n",
    "    def __init__(self):\n",
    "        self.reset()\n",
    "\n",
    "    def reset(self):\n",
    "        self.val = 0\n",
    "        self.avg = 0\n",
    "        self.sum = 0\n",
    "        self.count = 0\n",
    "\n",
    "    def update(self, val, n=1):\n",
    "        self.val = val\n",
    "        self.sum += val * n\n",
    "        self.count += n\n",
    "        self.avg = self.sum / self.count"
   ]
  },
  {
   "cell_type": "code",
   "execution_count": 10,
   "metadata": {},
   "outputs": [],
   "source": [
    "class History(object):\n",
    "    def __init__(self):\n",
    "        self.loss=[]\n",
    "        self.regloss=[]\n",
    "        self.totalloss=[]\n",
    "        self.testerr=[]  \n",
    "        self.validerr=[]"
   ]
  },
  {
   "cell_type": "code",
   "execution_count": 11,
   "metadata": {},
   "outputs": [],
   "source": [
    "def accuracy(output, target, topk=(1,)):\n",
    "    \"\"\"Computes the precision@k for the specified values of k\"\"\"\n",
    "    maxk = max(topk)\n",
    "    batch_size = target.size(0)\n",
    "\n",
    "    _, pred = output.topk(maxk, 1, True, True)\n",
    "    pred = pred.t()\n",
    "    correct = pred.eq(target.view(1, -1).expand_as(pred))\n",
    "\n",
    "    res = []\n",
    "    for k in topk:\n",
    "        correct_k = correct[:k].view(-1).float().sum(0)\n",
    "        res.append(correct_k.mul_(100.0 / batch_size))\n",
    "    return res"
   ]
  },
  {
   "cell_type": "code",
   "execution_count": 12,
   "metadata": {},
   "outputs": [],
   "source": [
    "class ARDDense(torch.nn.modules.Module):\n",
    "    def __init__(self, in_features, out_features,initalpha):\n",
    "        super(ARDDense, self).__init__()\n",
    "        self.weights = torch.nn.Parameter(torch.Tensor( out_features,in_features))\n",
    "        self.bias = torch.nn.Parameter(torch.Tensor(out_features))        \n",
    "        torch.nn.init.kaiming_normal_(self.weights, mode='fan_in')\n",
    "        self.bias.data.fill_(0)\n",
    "        \n",
    "        self.dim = in_features\n",
    "        self.alpha=torch.cuda.FloatTensor(self.dim)  \n",
    "        self.alpha.fill_(initalpha)    \n",
    "        \n",
    "        self.index=torch.arange(self.dim).cuda().long()\n",
    "        self.isnormal=torch.ones(self.dim).byte().cuda()\n",
    "            \n",
    "    def forward(self, inputx):    \n",
    "        o=torch.nn.functional.linear(inputx[:,self.index], self.weights[:,self.index],self.bias)    \n",
    "        return o\n",
    "    \n",
    "    def regularization(self): \n",
    "        reg=torch.sum(self.weights[:,self.index].pow(2)*self.alpha[self.isnormal])\n",
    "        return 0.5*reg\n",
    "    \n",
    "    def update_alpha(self):\n",
    "        self.alpha=1.0/torch.mean( self.weights.pow(2),0).data\n",
    "            \n",
    "            \n",
    "    def set_zeroweight(self):\n",
    "        isinf=(self.alpha>=FLAGS.alpha_inf)\n",
    "        set0index=isinf.nonzero()\n",
    "        if set0index.size(0)!=0: # has some nonzero==has some inf\n",
    "            self.weights.data.index_fill_(1,set0index.squeeze(),0)\n",
    "        self.isnormal=(self.alpha<FLAGS.alpha_inf)\n",
    "        self.index=self.isnormal.nonzero().squeeze()\n",
    "        \n",
    "    def left_dim(self):\n",
    "        return self.index.size(0)"
   ]
  },
  {
   "cell_type": "code",
   "execution_count": 13,
   "metadata": {},
   "outputs": [],
   "source": [
    "class ARDConv2d(torch.nn.modules.Module):\n",
    "    def __init__(self, in_channels, out_channels,initalpha,kernelsize,padding):\n",
    "        super(ARDConv2d, self).__init__()\n",
    "        self.weights = torch.nn.Parameter(torch.Tensor(out_channels, in_channels, kernelsize,kernelsize))\n",
    "        self.bias = torch.nn.Parameter(torch.Tensor(out_channels))\n",
    "        torch.nn.init.kaiming_normal_(self.weights, mode='fan_in')\n",
    "        self.bias.data.fill_(0)\n",
    "        self.padding=padding\n",
    "        \n",
    "        self.dim = out_channels\n",
    "        self.alpha=torch.cuda.FloatTensor(self.dim)  \n",
    "        self.alpha.fill_(initalpha)   \n",
    "        \n",
    "        self.index=torch.arange(self.dim).cuda().long()\n",
    "        self.isnormal=torch.ones(self.dim).byte().cuda()\n",
    "        \n",
    "    def forward(self, input_):# batchsize,inchannel, 28x28\n",
    "        output = torch.nn.functional.conv2d(input_, self.weights*self.isnormal.float().view(-1,1,1,1) , self.bias*self.isnormal.float(),padding=self.padding)    \n",
    "        return output\n",
    "        \n",
    "    def regularization(self):  \n",
    "        reg=torch.sum(self.weights[self.index,:,:,:].pow(2)* (self.alpha[self.isnormal].view(-1,1,1,1)))\n",
    "        return 0.5*reg\n",
    "    \n",
    "    def update_alpha(self):\n",
    "        self.alpha=1.0/torch.mean( self.weights.pow(2).view(self.dim,-1),1).data \n",
    "        \n",
    "    def set_zeroweight(self):\n",
    "        isinf=(self.alpha>=FLAGS.alpha_inf)\n",
    "        set0index=isinf.nonzero()\n",
    "        if set0index.size(0)!=0: # has some nonzero==has some inf\n",
    "            self.weights.data.index_fill_(0,set0index.squeeze(),0)\n",
    "        self.isnormal=(self.alpha<FLAGS.alpha_inf)\n",
    "        self.index=self.isnormal.nonzero().squeeze()\n",
    "        \n",
    "    def left_dim(self):\n",
    "        return self.index.size(0)     \n",
    "       "
   ]
  },
  {
   "cell_type": "code",
   "execution_count": 14,
   "metadata": {},
   "outputs": [],
   "source": [
    "G5config= [64, 64,'M', \n",
    "           128,128,'M', \n",
    "           256,256,256,256, 'M', \n",
    "           512,512,512,512,'M', \n",
    "           512,512,512,512,'A']\n",
    "def make_conv_layers(convconfig):\n",
    "    layers=[]  \n",
    "    in_channels=3\n",
    "    for v in convconfig:\n",
    "        if v == 'M':\n",
    "            layers += [torch.nn.MaxPool2d(kernel_size=2, stride=2)]\n",
    "        elif v == 'A':\n",
    "            layers += [torch.nn.AvgPool2d(kernel_size=2, stride=2)]\n",
    "        else:\n",
    "            out_channels=v\n",
    "            conv2d = ARDConv2d(in_channels, out_channels,FLAGS.init_alpha,3,1)\n",
    "            bn2d=torch.nn.BatchNorm2d( out_channels)\n",
    "            relu=torch.nn.ReLU(inplace=True)\n",
    "            layers += [conv2d,bn2d ,relu]\n",
    "            in_channels = out_channels\n",
    "    return layers"
   ]
  },
  {
   "cell_type": "code",
   "execution_count": 15,
   "metadata": {},
   "outputs": [],
   "source": [
    "class VGGG5_CIFAR100(torch.nn.Module):\n",
    "    def __init__(self):\n",
    "        super(VGGG5_CIFAR100, self).__init__()        \n",
    "        convs=make_conv_layers(G5config)\n",
    "        self.convs=torch.nn.Sequential(*convs)\n",
    "        fcs = [ARDDense(512, 100,FLAGS.init_alpha)]\n",
    "        self.fcs = torch.nn.Sequential(*fcs)\n",
    "        \n",
    "    def left_conv_dim(self):\n",
    "        leftnode=[3]\n",
    "        for m in self.modules():\n",
    "            if isinstance(m, ARDConv2d):\n",
    "                leftnode.append(m.left_dim())\n",
    "        return leftnode\n",
    "    \n",
    "    def left_linear_dim(self):\n",
    "        leftnode=[]\n",
    "        for m in self.modules():\n",
    "            if isinstance(m, ARDDense):\n",
    "                leftnode.append(m.left_dim())\n",
    "        leftnode.append(100)\n",
    "        return leftnode\n",
    "    \n",
    "    def left_weightn(self):\n",
    "        leftcovnode=self.left_conv_dim()\n",
    "        leftlinearnode=self.left_linear_dim()\n",
    "        leftedge=0\n",
    "        for tmpi in range(len(leftcovnode)-1):\n",
    "            leftedge+=leftcovnode[tmpi]*leftcovnode[tmpi+1]*3*3\n",
    "        for tmpi in range(len(leftlinearnode)-1):\n",
    "            leftedge+=leftlinearnode[tmpi]*leftlinearnode[tmpi+1]\n",
    "        return leftcovnode,leftlinearnode,leftedge\n",
    "    \n",
    "    def forward(self, x):\n",
    "        o = self.convs(x)\n",
    "        o = o.view(o.size(0), -1)\n",
    "        o=self.fcs(o)\n",
    "        return o\n",
    "    \n",
    "    def regularization(self):\n",
    "        reg = 0.0\n",
    "        for m in self.modules():\n",
    "            if isinstance(m, ARDDense) or isinstance(m, ARDConv2d):\n",
    "                reg += m.regularization() \n",
    "        return reg\n",
    "    \n",
    "    def  update_alpha(self):\n",
    "        for m in model.modules():  # weight -> alpha\n",
    "            if isinstance(m, ARDDense) or isinstance(m, ARDConv2d):\n",
    "                m.update_alpha()\n",
    "                \n",
    "    def set_zeroweight(self):\n",
    "        for m in self.modules():\n",
    "            if isinstance(m, ARDDense) or isinstance(m, ARDConv2d):\n",
    "                m.set_zeroweight()\n",
    "                "
   ]
  },
  {
   "cell_type": "code",
   "execution_count": 16,
   "metadata": {},
   "outputs": [],
   "source": [
    "model = VGGG5_CIFAR100()\n",
    "model.cuda()\n",
    "lossfunc=torch.nn.CrossEntropyLoss()"
   ]
  },
  {
   "cell_type": "code",
   "execution_count": 17,
   "metadata": {},
   "outputs": [
    {
     "name": "stdout",
     "output_type": "stream",
     "text": [
      "3-64-64-128-128-256-256-256-256-512-512-512-512-512-512-512-512 512-100 20070080\n"
     ]
    }
   ],
   "source": [
    "leftcovnode,leftlinearnode,fullModelWeightNumber=model.left_weightn()\n",
    "for n in range(len(leftcovnode)-1):\n",
    "    print(leftcovnode[n],end='-')\n",
    "print(leftcovnode[-1],end=' ')\n",
    "for n in range(len(leftlinearnode)-1):\n",
    "    print(leftlinearnode[n],end='-')\n",
    "print(leftlinearnode[-1])\n",
    "print('fullModelWeightNumber={:}'.format(fullModelWeightNumber))"
   ]
  },
  {
   "cell_type": "code",
   "execution_count": 18,
   "metadata": {},
   "outputs": [],
   "source": [
    "def oneThroughdataset_test(dataloader ):    \n",
    "    loss_avg = AverageMeter()\n",
    "    predictionErr_avg = AverageMeter()\n",
    "    model.eval()       \n",
    "    for ibatch, (input_, target) in enumerate(dataloader):\n",
    "        target = target.cuda(async=True)\n",
    "        input_ = input_.cuda()\n",
    "        input_var = torch.autograd.Variable(input_)\n",
    "        target_var = torch.autograd.Variable(target)\n",
    "        output = model(input_var)\n",
    "        loss = lossfunc(output, target_var)       \n",
    "        acc = accuracy(output.data, target, topk=(1,))[0]    \n",
    "        loss_avg.update(loss.data.item(), input_.size(0))\n",
    "        predictionErr_avg.update(100 - acc.item(), input_.size(0))\n",
    "    return loss_avg.avg, predictionErr_avg.avg"
   ]
  },
  {
   "cell_type": "code",
   "execution_count": 19,
   "metadata": {},
   "outputs": [],
   "source": [
    "def oneThroughdataset_train(optimizer,reglambda):   \n",
    "    loss_avg = AverageMeter()\n",
    "    regloss_avg = AverageMeter()\n",
    "    totalloss_avg = AverageMeter()\n",
    "    predictionErr_avg = AverageMeter()\n",
    "    model.train()\n",
    "    for ibatch, (input_, target) in enumerate(train_loader):\n",
    "        target = target.cuda(async=True)\n",
    "        input_ = input_.cuda()\n",
    "        input_var = torch.autograd.Variable(input_)\n",
    "        target_var = torch.autograd.Variable(target)\n",
    "        output = model(input_var)        \n",
    "        loss = lossfunc(output, target_var)\n",
    "        regloss=model.regularization()/N\n",
    "        totalloss = loss +  regloss *reglambda  \n",
    "        totalloss = totalloss.cuda()\n",
    "        acc = accuracy(output.data, target, topk=(1,))[0]   \n",
    "        \n",
    "        loss_avg.update(loss.data.item(), input_.size(0))\n",
    "        regloss_avg.update(regloss.data.item(), input_.size(0))\n",
    "        totalloss_avg.update(totalloss.data.item(), input_.size(0))\n",
    "        predictionErr_avg.update(100 - acc.item(), input_.size(0))\n",
    "        \n",
    "        optimizer.zero_grad()\n",
    "        totalloss.backward()\n",
    "        optimizer.step()\n",
    "          \n",
    "    return loss_avg.avg, regloss_avg.avg,  totalloss_avg.avg, predictionErr_avg.avg"
   ]
  },
  {
   "cell_type": "code",
   "execution_count": 20,
   "metadata": {},
   "outputs": [],
   "source": [
    "import numpy\n",
    "def z_step(history,aziter,reglambda,learningrate):\n",
    "    last1,last2=1e+10,1e+10\n",
    "       \n",
    "    optimizer = torch.optim.Adam([{'params': model.parameters(), 'lr': learningrate}])\n",
    "    for w_iter in range(FLAGS.w_epoch):    \n",
    "        meanloss,meanregloss,meantotalloss,predictionerr  =oneThroughdataset_train(optimizer,reglambda)\n",
    "        testloss,testerr=oneThroughdataset_test(test_loader)\n",
    "            \n",
    "        history.loss.append( meanloss )\n",
    "        history.regloss.append( meanregloss)\n",
    "        history.totalloss.append(meantotalloss )\n",
    "        history.testerr.append(testerr)\n",
    "                    \n",
    "        print('w {} {:.1e} {:.1e}={:.1e} err%Trn test={:.2f} {:.2f} lr={:.1e}'.format(w_iter,\n",
    "                   meanloss,meanregloss,meantotalloss,predictionerr,testerr,learningrate) ) \n",
    "        \n",
    "        if  (last2-last1)/last2<0.001 and (last1-meantotalloss)/last1<0.001:\n",
    "            learningrate=learningrate* FLAGS.lrchange \n",
    "            optimizer.param_groups[0]['lr']=learningrate\n",
    "\n",
    "        if learningrate < FLAGS.BreakBasedLr_lr:\n",
    "            break\n",
    "            \n",
    "        if meantotalloss==0:\n",
    "            break\n",
    "            \n",
    "        last2=last1\n",
    "        last1=meantotalloss \n",
    "    return history"
   ]
  },
  {
   "cell_type": "code",
   "execution_count": 21,
   "metadata": {},
   "outputs": [
    {
     "name": "stdout",
     "output_type": "stream",
     "text": [
      "az 0 afterw alphainf=1.0e+13 testerr=26.87% 3-64-64-128-128-256-256-256-256-512-512-512-512-512-512-512-512 512-100 ratio=20070080 100.00%\n",
      "az 0 aftera alphainf=1.0e+13 testerr=26.87% 3-64-64-128-128-256-256-256-256-512-512-512-512-512-512-512-512 512-100 ratio=20070080 100.00%\n"
     ]
    },
    {
     "ename": "KeyboardInterrupt",
     "evalue": "",
     "output_type": "error",
     "traceback": [
      "\u001b[1;31m---------------------------------------------------------------------------\u001b[0m",
      "\u001b[1;31mKeyboardInterrupt\u001b[0m                         Traceback (most recent call last)",
      "\u001b[1;32m<ipython-input-21-4334991550d9>\u001b[0m in \u001b[0;36m<module>\u001b[1;34m()\u001b[0m\n\u001b[0;32m     22\u001b[0m         \u001b[0mreglambda\u001b[0m\u001b[1;33m=\u001b[0m\u001b[1;36m1\u001b[0m\u001b[1;33m\u001b[0m\u001b[0m\n\u001b[0;32m     23\u001b[0m         \u001b[0mhistory\u001b[0m\u001b[1;33m=\u001b[0m\u001b[0mHistory\u001b[0m\u001b[1;33m(\u001b[0m\u001b[1;33m)\u001b[0m\u001b[1;33m\u001b[0m\u001b[0m\n\u001b[1;32m---> 24\u001b[1;33m         \u001b[0mhistory\u001b[0m\u001b[1;33m=\u001b[0m\u001b[0mz_step\u001b[0m\u001b[1;33m(\u001b[0m\u001b[0mhistory\u001b[0m\u001b[1;33m,\u001b[0m\u001b[0maziter\u001b[0m\u001b[1;33m,\u001b[0m\u001b[0mreglambda\u001b[0m\u001b[1;33m,\u001b[0m\u001b[0mFLAGS\u001b[0m\u001b[1;33m.\u001b[0m\u001b[0minit_lr\u001b[0m\u001b[1;33m)\u001b[0m\u001b[1;33m\u001b[0m\u001b[0m\n\u001b[0m\u001b[0;32m     25\u001b[0m         \u001b[0mtorch\u001b[0m\u001b[1;33m.\u001b[0m\u001b[0msave\u001b[0m\u001b[1;33m(\u001b[0m\u001b[0mmodel\u001b[0m\u001b[1;33m.\u001b[0m\u001b[0mstate_dict\u001b[0m\u001b[1;33m(\u001b[0m\u001b[1;33m)\u001b[0m\u001b[1;33m,\u001b[0m\u001b[1;34m'./ckpt/{}-statedict-aziter{}.ckpt'\u001b[0m\u001b[1;33m.\u001b[0m\u001b[0mformat\u001b[0m\u001b[1;33m(\u001b[0m\u001b[0mFLAGS\u001b[0m\u001b[1;33m.\u001b[0m\u001b[0msave_name\u001b[0m\u001b[1;33m,\u001b[0m\u001b[0maziter\u001b[0m\u001b[1;33m)\u001b[0m \u001b[1;33m)\u001b[0m\u001b[1;33m\u001b[0m\u001b[0m\n\u001b[0;32m     26\u001b[0m         \u001b[0mtorch\u001b[0m\u001b[1;33m.\u001b[0m\u001b[0msave\u001b[0m\u001b[1;33m(\u001b[0m\u001b[0mhistory\u001b[0m\u001b[1;33m,\u001b[0m \u001b[1;34m'./ckpt/{}-history-aziter{}.ckpt'\u001b[0m\u001b[1;33m.\u001b[0m\u001b[0mformat\u001b[0m\u001b[1;33m(\u001b[0m\u001b[0mFLAGS\u001b[0m\u001b[1;33m.\u001b[0m\u001b[0msave_name\u001b[0m\u001b[1;33m,\u001b[0m\u001b[0maziter\u001b[0m\u001b[1;33m)\u001b[0m \u001b[1;33m)\u001b[0m\u001b[1;33m\u001b[0m\u001b[0m\n",
      "\u001b[1;32m<ipython-input-20-f6c5a54f02e3>\u001b[0m in \u001b[0;36mz_step\u001b[1;34m(history, aziter, reglambda, learningrate)\u001b[0m\n\u001b[0;32m      5\u001b[0m     \u001b[0moptimizer\u001b[0m \u001b[1;33m=\u001b[0m \u001b[0mtorch\u001b[0m\u001b[1;33m.\u001b[0m\u001b[0moptim\u001b[0m\u001b[1;33m.\u001b[0m\u001b[0mAdam\u001b[0m\u001b[1;33m(\u001b[0m\u001b[1;33m[\u001b[0m\u001b[1;33m{\u001b[0m\u001b[1;34m'params'\u001b[0m\u001b[1;33m:\u001b[0m \u001b[0mmodel\u001b[0m\u001b[1;33m.\u001b[0m\u001b[0mparameters\u001b[0m\u001b[1;33m(\u001b[0m\u001b[1;33m)\u001b[0m\u001b[1;33m,\u001b[0m \u001b[1;34m'lr'\u001b[0m\u001b[1;33m:\u001b[0m \u001b[0mlearningrate\u001b[0m\u001b[1;33m}\u001b[0m\u001b[1;33m]\u001b[0m\u001b[1;33m)\u001b[0m\u001b[1;33m\u001b[0m\u001b[0m\n\u001b[0;32m      6\u001b[0m     \u001b[1;32mfor\u001b[0m \u001b[0mw_iter\u001b[0m \u001b[1;32min\u001b[0m \u001b[0mrange\u001b[0m\u001b[1;33m(\u001b[0m\u001b[0mFLAGS\u001b[0m\u001b[1;33m.\u001b[0m\u001b[0mw_epoch\u001b[0m\u001b[1;33m)\u001b[0m\u001b[1;33m:\u001b[0m\u001b[1;33m\u001b[0m\u001b[0m\n\u001b[1;32m----> 7\u001b[1;33m         \u001b[0mmeanloss\u001b[0m\u001b[1;33m,\u001b[0m\u001b[0mmeanregloss\u001b[0m\u001b[1;33m,\u001b[0m\u001b[0mmeantotalloss\u001b[0m\u001b[1;33m,\u001b[0m\u001b[0mpredictionerr\u001b[0m  \u001b[1;33m=\u001b[0m\u001b[0moneThroughdataset_train\u001b[0m\u001b[1;33m(\u001b[0m\u001b[0moptimizer\u001b[0m\u001b[1;33m,\u001b[0m\u001b[0mreglambda\u001b[0m\u001b[1;33m)\u001b[0m\u001b[1;33m\u001b[0m\u001b[0m\n\u001b[0m\u001b[0;32m      8\u001b[0m         \u001b[0mtestloss\u001b[0m\u001b[1;33m,\u001b[0m\u001b[0mtesterr\u001b[0m\u001b[1;33m=\u001b[0m\u001b[0moneThroughdataset_test\u001b[0m\u001b[1;33m(\u001b[0m\u001b[0mtest_loader\u001b[0m\u001b[1;33m)\u001b[0m\u001b[1;33m\u001b[0m\u001b[0m\n\u001b[0;32m      9\u001b[0m \u001b[1;33m\u001b[0m\u001b[0m\n",
      "\u001b[1;32m<ipython-input-19-8bf388151330>\u001b[0m in \u001b[0;36moneThroughdataset_train\u001b[1;34m(optimizer, reglambda)\u001b[0m\n\u001b[0;32m      7\u001b[0m     \u001b[1;32mfor\u001b[0m \u001b[0mibatch\u001b[0m\u001b[1;33m,\u001b[0m \u001b[1;33m(\u001b[0m\u001b[0minput_\u001b[0m\u001b[1;33m,\u001b[0m \u001b[0mtarget\u001b[0m\u001b[1;33m)\u001b[0m \u001b[1;32min\u001b[0m \u001b[0menumerate\u001b[0m\u001b[1;33m(\u001b[0m\u001b[0mtrain_loader\u001b[0m\u001b[1;33m)\u001b[0m\u001b[1;33m:\u001b[0m\u001b[1;33m\u001b[0m\u001b[0m\n\u001b[0;32m      8\u001b[0m         \u001b[0mtarget\u001b[0m \u001b[1;33m=\u001b[0m \u001b[0mtarget\u001b[0m\u001b[1;33m.\u001b[0m\u001b[0mcuda\u001b[0m\u001b[1;33m(\u001b[0m\u001b[0masync\u001b[0m\u001b[1;33m=\u001b[0m\u001b[1;32mTrue\u001b[0m\u001b[1;33m)\u001b[0m\u001b[1;33m\u001b[0m\u001b[0m\n\u001b[1;32m----> 9\u001b[1;33m         \u001b[0minput_\u001b[0m \u001b[1;33m=\u001b[0m \u001b[0minput_\u001b[0m\u001b[1;33m.\u001b[0m\u001b[0mcuda\u001b[0m\u001b[1;33m(\u001b[0m\u001b[1;33m)\u001b[0m\u001b[1;33m\u001b[0m\u001b[0m\n\u001b[0m\u001b[0;32m     10\u001b[0m         \u001b[0minput_var\u001b[0m \u001b[1;33m=\u001b[0m \u001b[0mtorch\u001b[0m\u001b[1;33m.\u001b[0m\u001b[0mautograd\u001b[0m\u001b[1;33m.\u001b[0m\u001b[0mVariable\u001b[0m\u001b[1;33m(\u001b[0m\u001b[0minput_\u001b[0m\u001b[1;33m)\u001b[0m\u001b[1;33m\u001b[0m\u001b[0m\n\u001b[0;32m     11\u001b[0m         \u001b[0mtarget_var\u001b[0m \u001b[1;33m=\u001b[0m \u001b[0mtorch\u001b[0m\u001b[1;33m.\u001b[0m\u001b[0mautograd\u001b[0m\u001b[1;33m.\u001b[0m\u001b[0mVariable\u001b[0m\u001b[1;33m(\u001b[0m\u001b[0mtarget\u001b[0m\u001b[1;33m)\u001b[0m\u001b[1;33m\u001b[0m\u001b[0m\n",
      "\u001b[1;31mKeyboardInterrupt\u001b[0m: "
     ]
    }
   ],
   "source": [
    "azstart=0\n",
    "azhistory=[[],[],[],[]]\n",
    "for aziter in range(azstart,FLAGS.azepoch):\n",
    "\n",
    "    # alpha -> weight\n",
    "    \n",
    "    if aziter==0:\n",
    "        resumefile=FLAGS.start_ckpt\n",
    "        resume_dict = torch.load(resumefile, map_location='cpu')\n",
    "        ard_keys, resume_keys = list(model.state_dict().keys()), list(resume_dict['state_dict'].keys())\n",
    "        \n",
    "        for i in range(16):\n",
    "            for j in range(6):\n",
    "                model.state_dict()[ard_keys[i*6+j]].copy_(resume_dict['state_dict'][resume_keys[i*9+j]])\n",
    "        \n",
    "        ard_offset, resume_offset = 6*16, 9*16\n",
    "      \n",
    "        for j in range(2):\n",
    "            model.state_dict()[ard_keys[ard_offset+j]].copy_(resume_dict['state_dict'][resume_keys[resume_offset+j]])\n",
    "\n",
    "    else:\n",
    "        reglambda=1\n",
    "        history=History()\n",
    "        history=z_step(history,aziter,reglambda,FLAGS.init_lr)\n",
    "        torch.save(model.state_dict(),'./ckpt/{}-statedict-aziter{}.ckpt'.format(FLAGS.save_name,aziter) )\n",
    "        torch.save(history, './ckpt/{}-history-aziter{}.ckpt'.format(FLAGS.save_name,aziter) )\n",
    " \n",
    "    \n",
    "    testloss,testerr=oneThroughdataset_test(test_loader)    \n",
    "    leftcovnode,leftlinearnode,leftnumber=model.left_weightn()\n",
    "    edgeratio=leftnumber*100/fullModelWeightNumber\n",
    "    print('az {} afterw alphainf={:.1e} testerr={:.2f}%'.format(aziter, FLAGS.alpha_inf, testerr),end=' ')\n",
    "    for n in range(len(leftcovnode)-1):\n",
    "        print(leftcovnode[n],end='-')\n",
    "    print(leftcovnode[-1],end=' ')\n",
    "    for n in range(len(leftlinearnode)-1):\n",
    "        print(leftlinearnode[n],end='-')\n",
    "    print(leftlinearnode[-1],end=' ')\n",
    "    print('ratio={} {:.2f}%'.format(leftnumber,edgeratio))\n",
    "    azhistory[0].append(testerr)\n",
    "    azhistory[1].append(edgeratio)\n",
    "    azhistory[2].append(leftcovnode)\n",
    "    azhistory[3].append(leftlinearnode)\n",
    "    torch.save(azhistory,'{}-history.ckpt'.format(FLAGS.save_name))\n",
    "    \n",
    "    # weight->alpha\n",
    "    \n",
    "    model.update_alpha()    \n",
    "    model.set_zeroweight()    \n",
    "    \n",
    "    testloss,testerr=oneThroughdataset_test(test_loader)\n",
    "    leftcovnode,leftlinearnode,leftnumber=model.left_weightn()\n",
    "    edgeratio=leftnumber*100/fullModelWeightNumber\n",
    "    print('az {} aftera alphainf={:.1e} testerr={:.2f}%'.format(aziter, FLAGS.alpha_inf, testerr),end=' ')\n",
    "    for n in range(len(leftcovnode)-1):\n",
    "        print(leftcovnode[n],end='-')\n",
    "    print(leftcovnode[-1],end=' ')\n",
    "    for n in range(len(leftlinearnode)-1):\n",
    "        print(leftlinearnode[n],end='-')\n",
    "    print(leftlinearnode[-1],end=' ')\n",
    "    print('ratio={} {:.2f}%'.format(leftnumber,edgeratio))\n",
    "    azhistory[0].append(testerr)\n",
    "    azhistory[1].append(edgeratio)\n",
    "    azhistory[2].append(leftcovnode)\n",
    "    azhistory[3].append(leftlinearnode)\n",
    "    torch.save(azhistory,'{}-history.ckpt'.format(FLAGS.save_name))\n",
    "    "
   ]
  },
  {
   "cell_type": "markdown",
   "metadata": {},
   "source": [
    "# results"
   ]
  },
  {
   "cell_type": "code",
   "execution_count": 5,
   "metadata": {},
   "outputs": [
    {
     "data": {
      "image/png": "[encoded data removed]",
      "text/plain": [
       "<Figure size 1080x360 with 2 Axes>"
      ]
     },
     "metadata": {
      "needs_background": "light"
     },
     "output_type": "display_data"
    },
    {
     "data": {
      "image/png": "[encoded data removed]",
      "text/plain": [
       "<Figure size 1080x360 with 1 Axes>"
      ]
     },
     "metadata": {
      "needs_background": "light"
     },
     "output_type": "display_data"
    }
   ],
   "source": [
    "filelist=[\n",
    "       'cifar100_vggG5_ard_load_vibnet5-history.ckpt',\n",
    "]\n",
    "\n",
    "legendlist=[\n",
    "    '1e-5',\n",
    "]\n",
    "\n",
    "colorlist=[\n",
    "    [1,0,0],\n",
    "]\n",
    "\n",
    "import matplotlib.pyplot\n",
    "import torch\n",
    "import numpy\n",
    "\n",
    "fig,ax=matplotlib.pyplot.subplots(figsize=(15,5))\n",
    "ax.set_ylabel('err%' )\n",
    "ax.set_xlabel('aw-epoch')\n",
    "#ax.set_ylim([0,10])\n",
    "#ax.set_xlim([0,10])\n",
    "\n",
    "for idd in range(len(filelist)):\n",
    "    ckptfile=filelist[idd]\n",
    "    history=torch.load(ckptfile)\n",
    "    y=history[0]\n",
    "    lline=ax.plot(y ,'x-',color=colorlist[idd])\n",
    "    \n",
    "matplotlib.pyplot.legend(legendlist,loc=3) \n",
    "#ax.legend(['err',],loc=3)\n",
    "\n",
    "for idd in range(len(filelist)):\n",
    "    ckptfile=filelist[idd]\n",
    "    history=torch.load(ckptfile)\n",
    "    y=history[0]\n",
    "    x=len(y)-1\n",
    "    lline=ax.plot(x,y[x],color=colorlist[idd])\n",
    "    ax.annotate( '{:.2f}'.format(y[x]),xy=(x,y[x]))\n",
    "    for x in range(len(y)):\n",
    "        ax.annotate( '{:.2f}'.format(y[x]),xy=(x,y[x]))\n",
    "        \n",
    "    \n",
    "    \n",
    "matplotlib.pyplot.legend(legendlist,loc=5) \n",
    "#ax.legend(['err',],loc=3)\n",
    "\n",
    "\n",
    "axR=ax.twinx()\n",
    "axR.set_ylabel('edge%' )  \n",
    "\n",
    "for idd in range(len(filelist)):\n",
    "    ckptfile=filelist[idd]\n",
    "    history=torch.load(ckptfile)\n",
    "    y=history[1]\n",
    "    lline=axR.plot(y ,'x--',color=colorlist[idd])\n",
    "    \n",
    "for idd in range(len(filelist)):\n",
    "    ckptfile=filelist[idd]\n",
    "    history=torch.load(ckptfile)\n",
    "    y=history[1]\n",
    "    x=len(y)-1\n",
    "    lline=axR.plot(x,y[x],color=colorlist[idd])\n",
    "    axR.annotate( '{:.3f}'.format(y[x]),xy=(x,y[x]))\n",
    "    for x in range(len(y)):\n",
    "        axR.annotate( '{:.2f}'.format(y[x]),xy=(x,y[x]))\n",
    "    \n",
    "    \n",
    "axR.legend(['edge',],loc=6)\n",
    "#axR.set_ylim([])\n",
    "\n",
    "def firstErrGivenEdge(preErr,etotalpercent,givenEdge):\n",
    "    epoch,err,edge=-1,100,100\n",
    "    for i in range(len(preErr)):\n",
    "        if etotalpercent[i]<=givenEdge:\n",
    "            epoch=i\n",
    "            err=preErr[i]\n",
    "            edge=etotalpercent[i]\n",
    "            break\n",
    "    return epoch,err,edge\n",
    "import numpy\n",
    "\n",
    "fig,ax=matplotlib.pyplot.subplots(figsize=(15,5))\n",
    "errhistory=history[0]\n",
    "edgehistory=history[1]\n",
    "errlist=[]\n",
    "edgelist=[]\n",
    "rangeedge=edgehistory.copy()\n",
    "rangeedge.sort()\n",
    "for edgetmp in rangeedge:#numpy.arange(0,101,0.01):\n",
    "    epoch,err,edge=firstErrGivenEdge(errhistory,edgehistory,edgetmp)\n",
    "    if epoch>-1:\n",
    "        errlist.append(err)\n",
    "        edgelist.append(edge)\n",
    "ax.plot(edgelist,errlist,'x-')\n",
    "ax.set_xlabel('edge%')\n",
    "ax.set_ylabel('err%')\n",
    "#ax.set_ylim([0,10])\n",
    "for tmpid in range(len(errlist)):\n",
    "    x=edgelist[tmpid]\n",
    "    y=errlist[tmpid]\n",
    "    ax.annotate( '({:.2f} {:.2f})'.format(x,y),xy=(x,y))"
   ]
  },
  {
   "cell_type": "code",
   "execution_count": null,
   "metadata": {},
   "outputs": [],
   "source": []
  },
  {
   "cell_type": "code",
   "execution_count": 6,
   "metadata": {},
   "outputs": [
    {
     "name": "stdout",
     "output_type": "stream",
     "text": [
      "398182400\n"
     ]
    }
   ],
   "source": [
    "def convlinear_flop_100G5(leftcovnode,leftlinearnode):\n",
    "    input_mapsize=[32,32,16,16,8,8,8,8,4,4,4,4,2,2,2,2]\n",
    "    flop=0\n",
    "    for layer in range(1,17):\n",
    "        flop+=leftcovnode[layer-1]*leftcovnode[layer]*9*input_mapsize[layer-1]*input_mapsize[layer-1]\n",
    "    for layer in range(1,2):\n",
    "        flop+=leftlinearnode[layer-1]*leftlinearnode[layer]\n",
    "    return flop\n",
    "   \n",
    "leftcovnode=[3,64,64,128,128,256,256,256,256,512,512,512,512,512,512,512,512]\n",
    "leftlinearnode=[512,100]\n",
    "fullFlop=convlinear_flop_100G5(leftcovnode,leftlinearnode)\n",
    "print(fullFlop)"
   ]
  },
  {
   "cell_type": "code",
   "execution_count": 7,
   "metadata": {},
   "outputs": [],
   "source": [
    "fullModelWeightNumber=20070080"
   ]
  },
  {
   "cell_type": "code",
   "execution_count": 11,
   "metadata": {},
   "outputs": [
    {
     "name": "stdout",
     "output_type": "stream",
     "text": [
      "epoch_0: 3-64-64-128-128-256-256-256-256-512-512-512-512-512-512-512-512 512-100  err=26.87% edge=2.007e+07 100.00% flop=3.982e+08 100.00%\n",
      "\n",
      "epoch_0: 3-64-64-128-128-256-256-256-256-512-512-512-512-512-512-512-512 512-100  err=26.87% edge=2.007e+07 100.00% flop=3.982e+08 100.00%\n",
      "\n",
      "epoch_1: 3-64-64-128-128-256-256-256-256-512-512-512-512-512-512-512-512 512-100  err=27.25% edge=2.007e+07 100.00% flop=3.982e+08 100.00%\n",
      "\n",
      "epoch_1: 3-56-64-127-127-251-250-253-254-203-94-24-21-23-52-163-324 324-100  err=27.25% edge=3.511e+06 17.49% flop=2.313e+08 58.09%\n",
      "\n",
      "epoch_2: 3-56-64-127-127-251-250-253-254-203-94-24-21-23-52-163-324 324-100  err=40.37% edge=3.511e+06 17.49% flop=2.313e+08 58.09%\n",
      "\n",
      "epoch_2: 3-51-62-104-116-184-76-32-20-11-3-4-6-11-26-65-145 302-100  err=40.38% edge=6.780e+05 3.38% flop=9.581e+07 24.06%\n",
      "\n",
      "epoch_3: 3-51-62-104-116-184-76-32-20-11-3-4-6-11-26-65-145 302-100  err=84.34% edge=6.780e+05 3.38% flop=9.581e+07 24.06%\n",
      "\n",
      "epoch_3: 3-50-46-52-34-8-4-3-3-3-3-4-5-6-5-11-97 225-100  err=84.30% edge=9.600e+04 0.48% flop=3.242e+07 8.14%\n",
      "\n",
      "epoch_4: 3-50-46-52-34-8-4-3-3-3-3-4-5-6-5-11-97 225-100  err=97.70% edge=9.600e+04 0.48% flop=3.242e+07 8.14%\n",
      "\n"
     ]
    }
   ],
   "source": [
    "errlist=history[0]\n",
    "edgeratiolist=history[1]\n",
    "covlist=history[2]\n",
    "linearlist=history[3]\n",
    "for epoch in range(len(covlist)):\n",
    "    err=errlist[epoch]\n",
    "    leftcovnode=covlist[epoch]\n",
    "    leftlinearnode=linearlist[epoch]\n",
    "    edgeratio=edgeratiolist[epoch]\n",
    "    flop=convlinear_flop_100G5(leftcovnode,leftlinearnode)\n",
    "    \n",
    "    print('epoch_{:}:'.format(int(epoch/2)),end=' ')\n",
    "    for n in range(len(leftcovnode)-1):\n",
    "        print(leftcovnode[n],end='-')\n",
    "    print(leftcovnode[-1],end=' ')\n",
    "    for n in range(len(leftlinearnode)-1):\n",
    "        print(leftlinearnode[n],end='-')\n",
    "    print(leftlinearnode[-1],end=' ')\n",
    "    print(' err={:.2f}% edge={:.3e} {:.2f}% flop={:.3e} {:.2f}%'.format(err,edgeratio*fullModelWeightNumber/100,edgeratio,flop , flop*100/fullFlop ))\n",
    "    print()"
   ]
  },
  {
   "cell_type": "code",
   "execution_count": null,
   "metadata": {},
   "outputs": [],
   "source": []
  }
 ],
 "metadata": {
  "kernelspec": {
   "display_name": "Python 3",
   "language": "python",
   "name": "python3"
  },
  "language_info": {
   "codemirror_mode": {
    "name": "ipython",
    "version": 3
   },
   "file_extension": ".py",
   "mimetype": "text/x-python",
   "name": "python",
   "nbconvert_exporter": "python",
   "pygments_lexer": "ipython3",
   "version": "3.6.7"
  }
 },
 "nbformat": 4,
 "nbformat_minor": 2
}
