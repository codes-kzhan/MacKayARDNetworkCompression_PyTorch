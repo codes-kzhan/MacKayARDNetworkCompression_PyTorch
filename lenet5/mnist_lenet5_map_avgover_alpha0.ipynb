{
 "cells": [
  {
   "cell_type": "code",
   "execution_count": 1,
   "metadata": {},
   "outputs": [
    {
     "name": "stdout",
     "output_type": "stream",
     "text": [
      "C:\\Users\\pearl\\Anaconda3\\envs\\pytorchEnv\\python.exe\n",
      "0.4.0\n",
      "0.2.1\n"
     ]
    }
   ],
   "source": [
    "import sys\n",
    "print(sys.executable)\n",
    "import torch\n",
    "print (torch.__version__)\n",
    "import torchvision\n",
    "print(torchvision.__version__)\n"
   ]
  },
  {
   "cell_type": "code",
   "execution_count": 2,
   "metadata": {},
   "outputs": [],
   "source": [
    "import argparse\n",
    "parser=argparse.ArgumentParser()\n",
    "FLAGS=parser.parse_args(args=[])\n",
    "FLAGS.batchsize=128\n",
    "FLAGS.w_epoch=1000\n",
    "FLAGS.w_printepoch=1\n",
    "FLAGS.init_lr=1e-3\n",
    "FLAGS.lrchange=0.9\n",
    "FLAGS.BreakBasedLr_lr=1e-8\n",
    "FLAGS.init_alpha=0\n",
    "\n",
    "FLAGS.minvalid_avgover=5\n",
    "\n",
    "FLAGS.save_name='mnist_lenet5_map_avgover_alpha0'"
   ]
  },
  {
   "cell_type": "markdown",
   "metadata": {},
   "source": [
    "# dataset"
   ]
  },
  {
   "cell_type": "code",
   "execution_count": 3,
   "metadata": {},
   "outputs": [],
   "source": [
    "import torchvision.datasets\n",
    "import torchvision.transforms\n",
    "\n",
    "transform1=torchvision.transforms.ToTensor()\n",
    "transform2=lambda x: 2*(x-0.5)\n",
    "transform12=torchvision.transforms.Compose([transform1,transform2])\n",
    "datasets_mnist_train=torchvision.datasets.MNIST('../data', train=True, download=False, transform=transform12)\n",
    "datasets_mnist_test=torchvision.datasets.MNIST('../data', train=False, transform=transform12)\n"
   ]
  },
  {
   "cell_type": "code",
   "execution_count": 4,
   "metadata": {},
   "outputs": [
    {
     "name": "stdout",
     "output_type": "stream",
     "text": [
      "train size 60000\n",
      " test size 10000\n",
      "image size torch.Size([28, 28])\n"
     ]
    }
   ],
   "source": [
    "print('train size %d'% len(datasets_mnist_train.train_data) )\n",
    "print(' test size %d'% len(datasets_mnist_test.test_data) )\n",
    "print('image size',datasets_mnist_train.train_data[0].size() )\n",
    "N = 60000.  # number of data points in the training set"
   ]
  },
  {
   "cell_type": "code",
   "execution_count": 5,
   "metadata": {},
   "outputs": [],
   "source": [
    "import torch.utils.data.dataset\n",
    "import torch.utils.data\n",
    "import torch\n",
    "\n",
    "\n",
    "test_loader=torch.utils.data.DataLoader(datasets_mnist_test,batch_size=FLAGS.batchsize )\n",
    "N=50000\n",
    "train_subset=torch.utils.data.dataset.Subset(datasets_mnist_train,range(N))\n",
    "valid_subset=torch.utils.data.dataset.Subset(datasets_mnist_train,range(N,60000))\n",
    "train_loader=torch.utils.data.DataLoader(train_subset, batch_size=FLAGS.batchsize,shuffle=True) \n",
    "valid_loader=torch.utils.data.DataLoader(valid_subset, batch_size=FLAGS.batchsize )\n"
   ]
  },
  {
   "cell_type": "markdown",
   "metadata": {},
   "source": [
    "# utils"
   ]
  },
  {
   "cell_type": "code",
   "execution_count": 6,
   "metadata": {},
   "outputs": [],
   "source": [
    "def accuracy(output, target, topk=(1,)):\n",
    "    \"\"\"Computes the precision@k for the specified values of k\"\"\"\n",
    "    maxk = max(topk)\n",
    "    batch_size = target.size(0)\n",
    "\n",
    "    _, pred = output.topk(maxk, 1, True, True)\n",
    "    pred = pred.t()\n",
    "    correct = pred.eq(target.view(1, -1).expand_as(pred))\n",
    "\n",
    "    res = []\n",
    "    for k in topk:\n",
    "        correct_k = correct[:k].view(-1).float().sum(0)\n",
    "        res.append(correct_k.mul_(100.0 / batch_size))\n",
    "    return res"
   ]
  },
  {
   "cell_type": "code",
   "execution_count": 7,
   "metadata": {},
   "outputs": [],
   "source": [
    "class AverageMeter(object):\n",
    "    def __init__(self):\n",
    "        self.reset()\n",
    "\n",
    "    def reset(self):\n",
    "        self.val = 0\n",
    "        self.avg = 0\n",
    "        self.sum = 0\n",
    "        self.count = 0\n",
    "\n",
    "    def update(self, val, n=1):\n",
    "        self.val = val\n",
    "        self.sum += val * n\n",
    "        self.count += n\n",
    "        self.avg = self.sum / self.count"
   ]
  },
  {
   "cell_type": "code",
   "execution_count": 8,
   "metadata": {},
   "outputs": [],
   "source": [
    "class History(object):\n",
    "    def __init__(self):\n",
    "        self.loss=[]\n",
    "        self.regloss=[]\n",
    "        self.totalloss=[]\n",
    "        self.testerr=[]  \n",
    "        self.validerr=[]"
   ]
  },
  {
   "cell_type": "markdown",
   "metadata": {},
   "source": [
    "# model"
   ]
  },
  {
   "cell_type": "code",
   "execution_count": 9,
   "metadata": {},
   "outputs": [],
   "source": [
    "import torch.nn\n",
    "import torch\n",
    "import torch.autograd\n",
    "import math\n",
    "import random\n",
    "import numpy\n",
    "import copy\n",
    "import operator\n",
    "\n",
    "random.seed(1)\n",
    "numpy.random.seed(1)\n",
    "torch.manual_seed(1)\n",
    "torch.cuda.manual_seed_all(1)"
   ]
  },
  {
   "cell_type": "code",
   "execution_count": 10,
   "metadata": {},
   "outputs": [],
   "source": [
    "class ARDConv2d(torch.nn.modules.Module):\n",
    "    def __init__(self, in_channels, out_channels,initalpha):\n",
    "        super(ARDConv2d, self).__init__()\n",
    "        self.weights = torch.nn.Parameter(torch.Tensor(out_channels, in_channels, 5,5))\n",
    "        self.bias = torch.nn.Parameter(torch.Tensor(out_channels))\n",
    "        torch.nn.init.kaiming_normal_(self.weights, mode='fan_in')\n",
    "        self.bias.data.fill_(0)\n",
    "        self.dim = out_channels\n",
    "        self.alpha=torch.cuda.FloatTensor(self.dim)  \n",
    "        self.alpha.fill_(initalpha)      \n",
    "        \n",
    "    def forward(self, input_):# batchsize,inchannel, 28x28\n",
    "        output = torch.nn.functional.conv2d(input_, self.weights , self.bias )    \n",
    "        return output\n",
    "        \n",
    "    def regularization(self):  \n",
    "        reg=torch.sum(self.weights.pow(2)*self.alpha.view(-1,1,1,1))\n",
    "        return 0.5*reg"
   ]
  },
  {
   "cell_type": "code",
   "execution_count": 11,
   "metadata": {},
   "outputs": [],
   "source": [
    "class ARDDense(torch.nn.modules.Module):\n",
    "    def __init__(self, in_features, out_features,initalpha):\n",
    "        super(ARDDense, self).__init__()\n",
    "        self.weights = torch.nn.Parameter(torch.Tensor( out_features,in_features))\n",
    "        self.bias = torch.nn.Parameter(torch.Tensor(out_features))        \n",
    "        torch.nn.init.kaiming_normal_(self.weights, mode='fan_in')\n",
    "        self.bias.data.fill_(0)\n",
    "        self.dim = in_features\n",
    "        self.alpha=torch.cuda.FloatTensor(self.dim)  \n",
    "        self.alpha.fill_(initalpha)        \n",
    "            \n",
    "    def forward(self, inputx):    \n",
    "        o=torch.nn.functional.linear(inputx, self.weights,self.bias)    \n",
    "        return o\n",
    "    \n",
    "    def regularization(self): \n",
    "        reg=torch.sum(self.weights.pow(2)*self.alpha)\n",
    "        return 0.5*reg"
   ]
  },
  {
   "cell_type": "code",
   "execution_count": 12,
   "metadata": {},
   "outputs": [],
   "source": [
    "class LeNet5_MNIST(torch.nn.Module):\n",
    "    def __init__(self):\n",
    "        super(LeNet5_MNIST, self).__init__()        \n",
    "        convs=[ARDConv2d(1,20,FLAGS.init_alpha),torch.nn.ReLU(), torch.nn.MaxPool2d(2),\n",
    "               ARDConv2d(20,50,FLAGS.init_alpha),torch.nn.ReLU(), torch.nn.MaxPool2d(2) ]\n",
    "        self.convs=torch.nn.Sequential(*convs).cuda()         \n",
    "        fcs = [ARDDense(800, 500,FLAGS.init_alpha), torch.nn.ReLU(),\n",
    "               ARDDense(500, 10,FLAGS.init_alpha)]\n",
    "        self.fcs = torch.nn.Sequential(*fcs).cuda()\n",
    "             \n",
    "    def forward(self, x):\n",
    "        o = self.convs(x)\n",
    "        o = o.view(o.size(0), -1)\n",
    "        o=self.fcs(o)\n",
    "        return o\n",
    "    \n",
    "    def regularization(self):\n",
    "        regularization = 0.0\n",
    "        for m in self.modules():\n",
    "            if isinstance(m, ARDDense) or isinstance(m, ARDConv2d):\n",
    "                regularization += m.regularization() \n",
    "        return regularization"
   ]
  },
  {
   "cell_type": "code",
   "execution_count": 13,
   "metadata": {},
   "outputs": [],
   "source": [
    "model = LeNet5_MNIST()\n",
    "model = model.cuda()\n",
    "lossfunc=torch.nn.CrossEntropyLoss()"
   ]
  },
  {
   "cell_type": "markdown",
   "metadata": {},
   "source": [
    "# run"
   ]
  },
  {
   "cell_type": "code",
   "execution_count": 14,
   "metadata": {},
   "outputs": [],
   "source": [
    "def oneThroughdataset_test(dataloader ):    \n",
    "    loss_avg = AverageMeter()\n",
    "    predictionErr_avg = AverageMeter()\n",
    "    model.eval()       \n",
    "    for ibatch, (input_, target) in enumerate(dataloader):\n",
    "        target = target.cuda(async=True)\n",
    "        input_ = input_.cuda()\n",
    "        input_var = torch.autograd.Variable(input_)\n",
    "        target_var = torch.autograd.Variable(target)\n",
    "        output = model(input_var)\n",
    "        loss = lossfunc(output, target_var)       \n",
    "        acc = accuracy(output.data, target, topk=(1,))[0]    \n",
    "        loss_avg.update(loss.data.item(), input_.size(0))\n",
    "        predictionErr_avg.update(100 - acc.item(), input_.size(0))\n",
    "    return loss_avg.avg, predictionErr_avg.avg"
   ]
  },
  {
   "cell_type": "code",
   "execution_count": 15,
   "metadata": {},
   "outputs": [],
   "source": [
    "def oneThroughdataset_train(optimizer):   \n",
    "    loss_avg = AverageMeter()\n",
    "    regloss_avg = AverageMeter()\n",
    "    totalloss_avg = AverageMeter()\n",
    "    predictionErr_avg = AverageMeter()\n",
    "    model.train()\n",
    "    for ibatch, (input_, target) in enumerate(train_loader):\n",
    "        target = target.cuda(async=True)\n",
    "        input_ = input_.cuda()\n",
    "        input_var = torch.autograd.Variable(input_)\n",
    "        target_var = torch.autograd.Variable(target)\n",
    "        output = model(input_var)        \n",
    "        loss = lossfunc(output, target_var)\n",
    "        regloss=model.regularization()/N\n",
    "        totalloss = loss +  regloss   \n",
    "        totalloss = totalloss.cuda()\n",
    "        acc = accuracy(output.data, target, topk=(1,))[0]   \n",
    "        \n",
    "        loss_avg.update(loss.data.item(), input_.size(0))\n",
    "        regloss_avg.update(regloss.data.item(), input_.size(0))\n",
    "        totalloss_avg.update(totalloss.data.item(), input_.size(0))\n",
    "        predictionErr_avg.update(100 - acc.item(), input_.size(0))\n",
    "        \n",
    "        optimizer.zero_grad()\n",
    "        totalloss.backward()\n",
    "        optimizer.step()\n",
    "          \n",
    "    return loss_avg.avg, regloss_avg.avg,  totalloss_avg.avg, predictionErr_avg.avg"
   ]
  },
  {
   "cell_type": "code",
   "execution_count": 16,
   "metadata": {},
   "outputs": [],
   "source": [
    "import numpy\n",
    "def z_step(history):\n",
    "    last1,last2=1e+10,1e+10\n",
    "    \n",
    "    historyValidErr=[]\n",
    "    \n",
    "    bestavgvalid,storevalid,storetest,storeepoch=100,100,100,-1\n",
    "    \n",
    "    optimizer = torch.optim.Adam([{'params': model.parameters(), 'lr': FLAGS.init_lr}])\n",
    "    learningrate=FLAGS.init_lr\n",
    "    for w_iter in range(FLAGS.w_epoch):    \n",
    "        meanloss,meanregloss,meantotalloss,predictionerr  =oneThroughdataset_train(optimizer)\n",
    "        validloss,validerr=oneThroughdataset_test(valid_loader)\n",
    "        testloss,testerr=oneThroughdataset_test(test_loader)\n",
    "            \n",
    "        history.loss.append( meanloss )\n",
    "        history.regloss.append( meanregloss)\n",
    "        history.totalloss.append(meantotalloss )\n",
    "        history.testerr.append(testerr)\n",
    "        history.validerr.append(validerr)\n",
    "        \n",
    "        for tmpd in range(len(historyValidErr)-1):\n",
    "            historyValidErr[tmpd]=historyValidErr[tmpd+1]\n",
    "        if len(historyValidErr)<FLAGS.minvalid_avgover:\n",
    "            historyValidErr.append(validerr)\n",
    "        else:\n",
    "            historyValidErr[-1]=validerr\n",
    "            \n",
    "        \n",
    "        if  numpy.mean(historyValidErr)<bestavgvalid:\n",
    "            bestavgvalid=numpy.mean(historyValidErr)\n",
    "            storevalid=validerr\n",
    "            storetest=testerr\n",
    "            storeepoch=w_iter\n",
    "            \n",
    "            state=dict()\n",
    "            state['statedict']=model.state_dict()\n",
    "            state['alpha']=FLAGS.init_alpha\n",
    "            state['testerr']=testerr\n",
    "            state['validerr']=validerr\n",
    "            state['witer']=w_iter\n",
    "            torch.save(state, '{}-statedict-bestvalid.ckpt'.format(FLAGS.save_name) )   \n",
    "\n",
    "        print('w {} {:.1e} err%Trn vld test={:.2f} {:.2f} {:.2f} lr={:.1e}'.format(w_iter,\n",
    "                   meantotalloss,predictionerr,validerr,testerr,learningrate),end=' ')\n",
    "        print('bstAvgVld vld test iter={:.3f} {:.2f} {:.2f} {}'.format(bestavgvalid,storevalid,storetest,storeepoch))\n",
    "        \n",
    "        \n",
    "        if  (last2-last1)/last2<0.001 and (last1-meantotalloss)/last1<0.001:\n",
    "            learningrate=learningrate* FLAGS.lrchange \n",
    "            optimizer.param_groups[0]['lr']=learningrate\n",
    "\n",
    "        if learningrate < FLAGS.BreakBasedLr_lr:\n",
    "            break\n",
    "            \n",
    "        if meantotalloss==0:\n",
    "            break\n",
    "            \n",
    "        last2=last1\n",
    "        last1=meantotalloss \n",
    "    return history,storetest,storeepoch"
   ]
  },
  {
   "cell_type": "code",
   "execution_count": 17,
   "metadata": {},
   "outputs": [
    {
     "name": "stdout",
     "output_type": "stream",
     "text": [
      "w 0 2.0e-01 err%Trn vld test=5.67 1.95 1.71 lr=1.0e-03 bstAvgVld vld test iter=1.950 1.95 1.71 0\n",
      "w 1 4.6e-02 err%Trn vld test=1.42 1.96 2.09 lr=1.0e-03 bstAvgVld vld test iter=1.950 1.95 1.71 0\n",
      "w 2 3.0e-02 err%Trn vld test=0.96 1.40 1.23 lr=1.0e-03 bstAvgVld vld test iter=1.773 1.40 1.23 2\n",
      "w 3 2.3e-02 err%Trn vld test=0.78 1.15 0.99 lr=1.0e-03 bstAvgVld vld test iter=1.478 1.15 0.99 3\n",
      "w 4 1.6e-02 err%Trn vld test=0.56 1.23 1.07 lr=1.0e-03 bstAvgVld vld test iter=1.266 1.23 1.07 4\n",
      "w 5 1.3e-02 err%Trn vld test=0.46 1.31 1.09 lr=1.0e-03 bstAvgVld vld test iter=1.248 1.31 1.09 5\n",
      "w 6 1.1e-02 err%Trn vld test=0.39 1.42 1.25 lr=1.0e-03 bstAvgVld vld test iter=1.248 1.31 1.09 5\n",
      "w 7 1.1e-02 err%Trn vld test=0.36 1.07 1.16 lr=1.0e-03 bstAvgVld vld test iter=1.236 1.07 1.16 7\n",
      "w 8 7.6e-03 err%Trn vld test=0.25 1.15 0.95 lr=1.0e-03 bstAvgVld vld test iter=1.236 1.07 1.16 7\n",
      "w 9 9.2e-03 err%Trn vld test=0.33 1.04 1.13 lr=1.0e-03 bstAvgVld vld test iter=1.198 1.04 1.13 9\n",
      "w 10 1.0e-02 err%Trn vld test=0.36 1.20 1.10 lr=1.0e-03 bstAvgVld vld test iter=1.176 1.20 1.10 10\n",
      "w 11 5.0e-03 err%Trn vld test=0.15 0.80 0.92 lr=9.0e-04 bstAvgVld vld test iter=1.052 0.80 0.92 11\n",
      "w 12 6.0e-03 err%Trn vld test=0.19 1.10 0.86 lr=9.0e-04 bstAvgVld vld test iter=1.052 0.80 0.92 11\n",
      "w 13 4.2e-03 err%Trn vld test=0.12 1.07 0.87 lr=9.0e-04 bstAvgVld vld test iter=1.042 1.07 0.87 13\n",
      "w 14 7.0e-03 err%Trn vld test=0.23 1.09 0.98 lr=9.0e-04 bstAvgVld vld test iter=1.042 1.07 0.87 13\n",
      "w 15 6.1e-03 err%Trn vld test=0.20 1.11 1.05 lr=9.0e-04 bstAvgVld vld test iter=1.034 1.11 1.05 15\n",
      "w 16 6.9e-03 err%Trn vld test=0.23 1.07 1.03 lr=9.0e-04 bstAvgVld vld test iter=1.034 1.11 1.05 15\n",
      "w 17 3.9e-03 err%Trn vld test=0.12 0.97 0.93 lr=9.0e-04 bstAvgVld vld test iter=1.034 1.11 1.05 15\n",
      "w 18 1.1e-03 err%Trn vld test=0.03 0.77 0.74 lr=9.0e-04 bstAvgVld vld test iter=1.002 0.77 0.74 18\n",
      "w 19 1.0e-03 err%Trn vld test=0.02 1.01 0.95 lr=9.0e-04 bstAvgVld vld test iter=0.986 1.01 0.95 19\n",
      "w 20 1.1e-02 err%Trn vld test=0.34 1.23 1.25 lr=9.0e-04 bstAvgVld vld test iter=0.986 1.01 0.95 19\n",
      "w 21 6.4e-03 err%Trn vld test=0.21 0.94 0.90 lr=9.0e-04 bstAvgVld vld test iter=0.984 0.94 0.90 21\n",
      "w 22 2.5e-03 err%Trn vld test=0.08 0.98 0.84 lr=9.0e-04 bstAvgVld vld test iter=0.984 0.94 0.90 21\n",
      "w 23 5.2e-04 err%Trn vld test=0.01 0.91 0.70 lr=9.0e-04 bstAvgVld vld test iter=0.984 0.94 0.90 21\n",
      "w 24 2.2e-03 err%Trn vld test=0.07 1.13 0.88 lr=9.0e-04 bstAvgVld vld test iter=0.984 0.94 0.90 21\n",
      "w 25 5.8e-03 err%Trn vld test=0.17 1.03 1.16 lr=9.0e-04 bstAvgVld vld test iter=0.984 0.94 0.90 21\n",
      "w 26 3.1e-03 err%Trn vld test=0.11 0.73 0.83 lr=8.1e-04 bstAvgVld vld test iter=0.956 0.73 0.83 26\n",
      "w 27 1.5e-03 err%Trn vld test=0.05 0.82 0.85 lr=8.1e-04 bstAvgVld vld test iter=0.924 0.82 0.85 27\n",
      "w 28 4.7e-03 err%Trn vld test=0.12 0.88 0.86 lr=8.1e-04 bstAvgVld vld test iter=0.918 0.88 0.86 28\n",
      "w 29 3.7e-03 err%Trn vld test=0.10 0.94 0.79 lr=8.1e-04 bstAvgVld vld test iter=0.880 0.94 0.79 29\n",
      "w 30 1.0e-03 err%Trn vld test=0.03 0.85 0.79 lr=8.1e-04 bstAvgVld vld test iter=0.844 0.85 0.79 30\n",
      "w 31 7.4e-04 err%Trn vld test=0.03 0.84 0.81 lr=8.1e-04 bstAvgVld vld test iter=0.844 0.85 0.79 30\n",
      "w 32 4.4e-04 err%Trn vld test=0.01 0.83 0.73 lr=8.1e-04 bstAvgVld vld test iter=0.844 0.85 0.79 30\n",
      "w 33 6.6e-03 err%Trn vld test=0.17 0.98 0.93 lr=8.1e-04 bstAvgVld vld test iter=0.844 0.85 0.79 30\n",
      "w 34 3.5e-03 err%Trn vld test=0.10 1.07 0.92 lr=8.1e-04 bstAvgVld vld test iter=0.844 0.85 0.79 30\n",
      "w 35 2.3e-03 err%Trn vld test=0.06 0.88 0.71 lr=8.1e-04 bstAvgVld vld test iter=0.844 0.85 0.79 30\n",
      "w 36 5.0e-04 err%Trn vld test=0.02 0.84 0.74 lr=8.1e-04 bstAvgVld vld test iter=0.844 0.85 0.79 30\n",
      "w 37 6.4e-04 err%Trn vld test=0.01 0.88 0.72 lr=8.1e-04 bstAvgVld vld test iter=0.844 0.85 0.79 30\n",
      "w 38 3.3e-05 err%Trn vld test=0.00 0.77 0.68 lr=8.1e-04 bstAvgVld vld test iter=0.844 0.85 0.79 30\n",
      "w 39 3.9e-06 err%Trn vld test=0.00 0.77 0.69 lr=8.1e-04 bstAvgVld vld test iter=0.828 0.77 0.69 39\n",
      "w 40 2.9e-06 err%Trn vld test=0.00 0.77 0.68 lr=8.1e-04 bstAvgVld vld test iter=0.806 0.77 0.68 40\n",
      "w 41 2.3e-06 err%Trn vld test=0.00 0.77 0.67 lr=8.1e-04 bstAvgVld vld test iter=0.792 0.77 0.67 41\n",
      "w 42 1.9e-06 err%Trn vld test=0.00 0.74 0.66 lr=8.1e-04 bstAvgVld vld test iter=0.764 0.74 0.66 42\n",
      "w 43 1.6e-06 err%Trn vld test=0.00 0.75 0.66 lr=8.1e-04 bstAvgVld vld test iter=0.760 0.75 0.66 43\n",
      "w 44 1.3e-06 err%Trn vld test=0.00 0.76 0.67 lr=8.1e-04 bstAvgVld vld test iter=0.758 0.76 0.67 44\n",
      "w 45 1.1e-06 err%Trn vld test=0.00 0.76 0.68 lr=8.1e-04 bstAvgVld vld test iter=0.756 0.76 0.68 45\n",
      "w 46 9.4e-07 err%Trn vld test=0.00 0.76 0.68 lr=8.1e-04 bstAvgVld vld test iter=0.754 0.76 0.68 46\n",
      "w 47 7.9e-07 err%Trn vld test=0.00 0.76 0.70 lr=8.1e-04 bstAvgVld vld test iter=0.754 0.76 0.68 46\n",
      "w 48 6.6e-07 err%Trn vld test=0.00 0.76 0.70 lr=8.1e-04 bstAvgVld vld test iter=0.754 0.76 0.68 46\n",
      "w 49 5.6e-07 err%Trn vld test=0.00 0.76 0.70 lr=8.1e-04 bstAvgVld vld test iter=0.754 0.76 0.68 46\n",
      "w 50 4.7e-07 err%Trn vld test=0.00 0.76 0.69 lr=8.1e-04 bstAvgVld vld test iter=0.754 0.76 0.68 46\n",
      "w 51 3.9e-07 err%Trn vld test=0.00 0.76 0.69 lr=8.1e-04 bstAvgVld vld test iter=0.754 0.76 0.68 46\n",
      "w 52 3.3e-07 err%Trn vld test=0.00 0.77 0.69 lr=8.1e-04 bstAvgVld vld test iter=0.754 0.76 0.68 46\n",
      "w 53 2.7e-07 err%Trn vld test=0.00 0.77 0.69 lr=8.1e-04 bstAvgVld vld test iter=0.754 0.76 0.68 46\n",
      "w 54 2.3e-07 err%Trn vld test=0.00 0.77 0.69 lr=8.1e-04 bstAvgVld vld test iter=0.754 0.76 0.68 46\n",
      "w 55 1.9e-07 err%Trn vld test=0.00 0.76 0.69 lr=8.1e-04 bstAvgVld vld test iter=0.754 0.76 0.68 46\n",
      "w 56 1.6e-07 err%Trn vld test=0.00 0.77 0.69 lr=8.1e-04 bstAvgVld vld test iter=0.754 0.76 0.68 46\n",
      "w 57 1.3e-07 err%Trn vld test=0.00 0.75 0.68 lr=8.1e-04 bstAvgVld vld test iter=0.754 0.76 0.68 46\n",
      "w 58 1.1e-07 err%Trn vld test=0.00 0.75 0.68 lr=8.1e-04 bstAvgVld vld test iter=0.754 0.76 0.68 46\n",
      "w 59 8.9e-08 err%Trn vld test=0.00 0.75 0.67 lr=8.1e-04 bstAvgVld vld test iter=0.754 0.76 0.68 46\n",
      "w 60 7.3e-08 err%Trn vld test=0.00 0.74 0.66 lr=8.1e-04 bstAvgVld vld test iter=0.752 0.74 0.66 60\n",
      "w 61 6.1e-08 err%Trn vld test=0.00 0.74 0.67 lr=8.1e-04 bstAvgVld vld test iter=0.746 0.74 0.67 61\n",
      "w 62 5.0e-08 err%Trn vld test=0.00 0.75 0.66 lr=8.1e-04 bstAvgVld vld test iter=0.746 0.74 0.67 61\n",
      "w 63 4.1e-08 err%Trn vld test=0.00 0.74 0.66 lr=8.1e-04 bstAvgVld vld test iter=0.744 0.74 0.66 63\n",
      "w 64 3.4e-08 err%Trn vld test=0.00 0.72 0.66 lr=8.1e-04 bstAvgVld vld test iter=0.738 0.72 0.66 64\n",
      "w 65 2.7e-08 err%Trn vld test=0.00 0.72 0.65 lr=8.1e-04 bstAvgVld vld test iter=0.734 0.72 0.65 65\n",
      "w 66 2.2e-08 err%Trn vld test=0.00 0.71 0.65 lr=8.1e-04 bstAvgVld vld test iter=0.728 0.71 0.65 66\n",
      "w 67 1.8e-08 err%Trn vld test=0.00 0.71 0.65 lr=8.1e-04 bstAvgVld vld test iter=0.720 0.71 0.65 67\n",
      "w 68 1.5e-08 err%Trn vld test=0.00 0.71 0.65 lr=8.1e-04 bstAvgVld vld test iter=0.714 0.71 0.65 68\n",
      "w 69 1.2e-08 err%Trn vld test=0.00 0.71 0.65 lr=8.1e-04 bstAvgVld vld test iter=0.712 0.71 0.65 69\n",
      "w 70 9.5e-09 err%Trn vld test=0.00 0.70 0.64 lr=8.1e-04 bstAvgVld vld test iter=0.708 0.70 0.64 70\n",
      "w 71 7.0e-09 err%Trn vld test=0.00 0.71 0.64 lr=8.1e-04 bstAvgVld vld test iter=0.708 0.70 0.64 70\n",
      "w 72 5.7e-09 err%Trn vld test=0.00 0.71 0.65 lr=8.1e-04 bstAvgVld vld test iter=0.708 0.70 0.64 70\n",
      "w 73 4.6e-09 err%Trn vld test=0.00 0.72 0.65 lr=8.1e-04 bstAvgVld vld test iter=0.708 0.70 0.64 70\n",
      "w 74 3.8e-09 err%Trn vld test=0.00 0.73 0.63 lr=8.1e-04 bstAvgVld vld test iter=0.708 0.70 0.64 70\n",
      "w 75 3.7e-09 err%Trn vld test=0.00 0.73 0.65 lr=8.1e-04 bstAvgVld vld test iter=0.708 0.70 0.64 70\n",
      "w 76 3.1e-09 err%Trn vld test=0.00 0.72 0.63 lr=8.1e-04 bstAvgVld vld test iter=0.708 0.70 0.64 70\n",
      "w 77 2.8e-09 err%Trn vld test=0.00 0.74 0.64 lr=8.1e-04 bstAvgVld vld test iter=0.708 0.70 0.64 70\n",
      "w 78 2.8e-09 err%Trn vld test=0.00 0.79 0.64 lr=8.1e-04 bstAvgVld vld test iter=0.708 0.70 0.64 70\n",
      "w 79 2.5e-09 err%Trn vld test=0.00 0.77 0.64 lr=8.1e-04 bstAvgVld vld test iter=0.708 0.70 0.64 70\n",
      "w 80 2.3e-09 err%Trn vld test=0.00 0.74 0.63 lr=8.1e-04 bstAvgVld vld test iter=0.708 0.70 0.64 70\n",
      "w 81 2.0e-09 err%Trn vld test=0.00 0.74 0.64 lr=8.1e-04 bstAvgVld vld test iter=0.708 0.70 0.64 70\n",
      "w 82 1.7e-09 err%Trn vld test=0.00 0.75 0.63 lr=8.1e-04 bstAvgVld vld test iter=0.708 0.70 0.64 70\n"
     ]
    },
    {
     "name": "stdout",
     "output_type": "stream",
     "text": [
      "w 83 1.4e-09 err%Trn vld test=0.00 0.74 0.63 lr=8.1e-04 bstAvgVld vld test iter=0.708 0.70 0.64 70\n",
      "w 84 9.0e-10 err%Trn vld test=0.00 0.73 0.64 lr=8.1e-04 bstAvgVld vld test iter=0.708 0.70 0.64 70\n",
      "w 85 5.4e-10 err%Trn vld test=0.00 0.71 0.60 lr=8.1e-04 bstAvgVld vld test iter=0.708 0.70 0.64 70\n",
      "w 86 6.0e-10 err%Trn vld test=0.00 0.74 0.62 lr=8.1e-04 bstAvgVld vld test iter=0.708 0.70 0.64 70\n",
      "w 87 2.1e-02 err%Trn vld test=0.37 1.13 1.17 lr=8.1e-04 bstAvgVld vld test iter=0.708 0.70 0.64 70\n",
      "w 88 6.5e-03 err%Trn vld test=0.19 0.91 0.92 lr=7.3e-04 bstAvgVld vld test iter=0.708 0.70 0.64 70\n",
      "w 89 1.3e-03 err%Trn vld test=0.03 0.81 0.92 lr=7.3e-04 bstAvgVld vld test iter=0.708 0.70 0.64 70\n",
      "w 90 6.8e-05 err%Trn vld test=0.00 0.80 0.80 lr=7.3e-04 bstAvgVld vld test iter=0.708 0.70 0.64 70\n",
      "w 91 9.0e-06 err%Trn vld test=0.00 0.79 0.81 lr=7.3e-04 bstAvgVld vld test iter=0.708 0.70 0.64 70\n",
      "w 92 5.7e-06 err%Trn vld test=0.00 0.78 0.80 lr=7.3e-04 bstAvgVld vld test iter=0.708 0.70 0.64 70\n",
      "w 93 4.5e-06 err%Trn vld test=0.00 0.78 0.80 lr=7.3e-04 bstAvgVld vld test iter=0.708 0.70 0.64 70\n",
      "w 94 3.6e-06 err%Trn vld test=0.00 0.78 0.81 lr=7.3e-04 bstAvgVld vld test iter=0.708 0.70 0.64 70\n",
      "w 95 3.0e-06 err%Trn vld test=0.00 0.78 0.81 lr=7.3e-04 bstAvgVld vld test iter=0.708 0.70 0.64 70\n",
      "w 96 2.4e-06 err%Trn vld test=0.00 0.77 0.82 lr=7.3e-04 bstAvgVld vld test iter=0.708 0.70 0.64 70\n",
      "w 97 2.0e-06 err%Trn vld test=0.00 0.76 0.79 lr=7.3e-04 bstAvgVld vld test iter=0.708 0.70 0.64 70\n",
      "w 98 1.6e-06 err%Trn vld test=0.00 0.75 0.79 lr=7.3e-04 bstAvgVld vld test iter=0.708 0.70 0.64 70\n",
      "w 99 1.3e-06 err%Trn vld test=0.00 0.75 0.77 lr=7.3e-04 bstAvgVld vld test iter=0.708 0.70 0.64 70\n",
      "w 100 1.1e-06 err%Trn vld test=0.00 0.75 0.76 lr=7.3e-04 bstAvgVld vld test iter=0.708 0.70 0.64 70\n",
      "w 101 8.9e-07 err%Trn vld test=0.00 0.75 0.76 lr=7.3e-04 bstAvgVld vld test iter=0.708 0.70 0.64 70\n",
      "w 102 7.2e-07 err%Trn vld test=0.00 0.75 0.76 lr=7.3e-04 bstAvgVld vld test iter=0.708 0.70 0.64 70\n",
      "w 103 5.7e-07 err%Trn vld test=0.00 0.74 0.75 lr=7.3e-04 bstAvgVld vld test iter=0.708 0.70 0.64 70\n",
      "w 104 4.5e-07 err%Trn vld test=0.00 0.75 0.73 lr=7.3e-04 bstAvgVld vld test iter=0.708 0.70 0.64 70\n",
      "w 105 3.4e-07 err%Trn vld test=0.00 0.74 0.72 lr=7.3e-04 bstAvgVld vld test iter=0.708 0.70 0.64 70\n",
      "w 106 2.3e-07 err%Trn vld test=0.00 0.72 0.74 lr=7.3e-04 bstAvgVld vld test iter=0.708 0.70 0.64 70\n",
      "w 107 1.3e-07 err%Trn vld test=0.00 0.72 0.75 lr=7.3e-04 bstAvgVld vld test iter=0.708 0.70 0.64 70\n",
      "w 108 7.8e-08 err%Trn vld test=0.00 0.70 0.74 lr=7.3e-04 bstAvgVld vld test iter=0.708 0.70 0.64 70\n",
      "w 109 5.0e-08 err%Trn vld test=0.00 0.70 0.72 lr=7.3e-04 bstAvgVld vld test iter=0.708 0.70 0.64 70\n",
      "w 110 3.5e-08 err%Trn vld test=0.00 0.71 0.72 lr=7.3e-04 bstAvgVld vld test iter=0.708 0.70 0.64 70\n",
      "w 111 2.8e-08 err%Trn vld test=0.00 0.72 0.73 lr=7.3e-04 bstAvgVld vld test iter=0.708 0.70 0.64 70\n",
      "w 112 1.9e-08 err%Trn vld test=0.00 0.70 0.70 lr=7.3e-04 bstAvgVld vld test iter=0.706 0.70 0.70 112\n",
      "w 113 1.6e-08 err%Trn vld test=0.00 0.70 0.77 lr=7.3e-04 bstAvgVld vld test iter=0.706 0.70 0.70 112\n",
      "w 114 1.2e-08 err%Trn vld test=0.00 0.70 0.71 lr=7.3e-04 bstAvgVld vld test iter=0.706 0.70 0.70 112\n",
      "w 115 1.2e-08 err%Trn vld test=0.00 0.71 0.74 lr=7.3e-04 bstAvgVld vld test iter=0.706 0.70 0.70 112\n",
      "w 116 2.0e-08 err%Trn vld test=0.00 0.74 0.76 lr=7.3e-04 bstAvgVld vld test iter=0.706 0.70 0.70 112\n",
      "w 117 2.5e-08 err%Trn vld test=0.00 0.72 0.71 lr=7.3e-04 bstAvgVld vld test iter=0.706 0.70 0.70 112\n",
      "w 118 8.1e-09 err%Trn vld test=0.00 0.72 0.71 lr=6.6e-04 bstAvgVld vld test iter=0.706 0.70 0.70 112\n",
      "w 119 8.2e-09 err%Trn vld test=0.00 0.74 0.75 lr=6.6e-04 bstAvgVld vld test iter=0.706 0.70 0.70 112\n",
      "w 120 3.2e-08 err%Trn vld test=0.00 0.71 0.74 lr=6.6e-04 bstAvgVld vld test iter=0.706 0.70 0.70 112\n",
      "w 121 3.0e-08 err%Trn vld test=0.00 0.71 0.78 lr=5.9e-04 bstAvgVld vld test iter=0.706 0.70 0.70 112\n",
      "w 122 1.0e-08 err%Trn vld test=0.00 0.71 0.74 lr=5.9e-04 bstAvgVld vld test iter=0.706 0.70 0.70 112\n",
      "w 123 4.9e-08 err%Trn vld test=0.00 0.79 0.79 lr=5.9e-04 bstAvgVld vld test iter=0.706 0.70 0.70 112\n",
      "w 124 1.2e-02 err%Trn vld test=0.19 1.07 1.06 lr=5.9e-04 bstAvgVld vld test iter=0.706 0.70 0.70 112\n",
      "w 125 1.9e-03 err%Trn vld test=0.06 0.91 0.81 lr=5.3e-04 bstAvgVld vld test iter=0.706 0.70 0.70 112\n",
      "w 126 4.1e-04 err%Trn vld test=0.02 0.89 0.67 lr=5.3e-04 bstAvgVld vld test iter=0.706 0.70 0.70 112\n",
      "w 127 3.0e-05 err%Trn vld test=0.00 0.84 0.72 lr=5.3e-04 bstAvgVld vld test iter=0.706 0.70 0.70 112\n",
      "w 128 4.2e-06 err%Trn vld test=0.00 0.83 0.70 lr=5.3e-04 bstAvgVld vld test iter=0.706 0.70 0.70 112\n",
      "w 129 2.1e-06 err%Trn vld test=0.00 0.83 0.70 lr=5.3e-04 bstAvgVld vld test iter=0.706 0.70 0.70 112\n",
      "w 130 1.6e-06 err%Trn vld test=0.00 0.83 0.70 lr=5.3e-04 bstAvgVld vld test iter=0.706 0.70 0.70 112\n",
      "w 131 1.3e-06 err%Trn vld test=0.00 0.83 0.70 lr=5.3e-04 bstAvgVld vld test iter=0.706 0.70 0.70 112\n",
      "w 132 1.1e-06 err%Trn vld test=0.00 0.83 0.69 lr=5.3e-04 bstAvgVld vld test iter=0.706 0.70 0.70 112\n",
      "w 133 9.5e-07 err%Trn vld test=0.00 0.82 0.69 lr=5.3e-04 bstAvgVld vld test iter=0.706 0.70 0.70 112\n",
      "w 134 8.1e-07 err%Trn vld test=0.00 0.82 0.69 lr=5.3e-04 bstAvgVld vld test iter=0.706 0.70 0.70 112\n",
      "w 135 6.9e-07 err%Trn vld test=0.00 0.82 0.68 lr=5.3e-04 bstAvgVld vld test iter=0.706 0.70 0.70 112\n",
      "w 136 5.9e-07 err%Trn vld test=0.00 0.82 0.68 lr=5.3e-04 bstAvgVld vld test iter=0.706 0.70 0.70 112\n",
      "w 137 5.0e-07 err%Trn vld test=0.00 0.82 0.68 lr=5.3e-04 bstAvgVld vld test iter=0.706 0.70 0.70 112\n",
      "w 138 4.3e-07 err%Trn vld test=0.00 0.81 0.67 lr=5.3e-04 bstAvgVld vld test iter=0.706 0.70 0.70 112\n",
      "w 139 3.6e-07 err%Trn vld test=0.00 0.81 0.65 lr=5.3e-04 bstAvgVld vld test iter=0.706 0.70 0.70 112\n",
      "w 140 3.1e-07 err%Trn vld test=0.00 0.81 0.65 lr=5.3e-04 bstAvgVld vld test iter=0.706 0.70 0.70 112\n",
      "w 141 2.6e-07 err%Trn vld test=0.00 0.81 0.65 lr=5.3e-04 bstAvgVld vld test iter=0.706 0.70 0.70 112\n",
      "w 142 2.2e-07 err%Trn vld test=0.00 0.80 0.64 lr=5.3e-04 bstAvgVld vld test iter=0.706 0.70 0.70 112\n",
      "w 143 1.8e-07 err%Trn vld test=0.00 0.79 0.64 lr=5.3e-04 bstAvgVld vld test iter=0.706 0.70 0.70 112\n",
      "w 144 1.5e-07 err%Trn vld test=0.00 0.79 0.64 lr=5.3e-04 bstAvgVld vld test iter=0.706 0.70 0.70 112\n",
      "w 145 1.2e-07 err%Trn vld test=0.00 0.79 0.64 lr=5.3e-04 bstAvgVld vld test iter=0.706 0.70 0.70 112\n",
      "w 146 1.0e-07 err%Trn vld test=0.00 0.79 0.63 lr=5.3e-04 bstAvgVld vld test iter=0.706 0.70 0.70 112\n",
      "w 147 8.2e-08 err%Trn vld test=0.00 0.78 0.64 lr=5.3e-04 bstAvgVld vld test iter=0.706 0.70 0.70 112\n",
      "w 148 6.4e-08 err%Trn vld test=0.00 0.76 0.63 lr=5.3e-04 bstAvgVld vld test iter=0.706 0.70 0.70 112\n",
      "w 149 5.1e-08 err%Trn vld test=0.00 0.76 0.63 lr=5.3e-04 bstAvgVld vld test iter=0.706 0.70 0.70 112\n",
      "w 150 3.8e-08 err%Trn vld test=0.00 0.74 0.62 lr=5.3e-04 bstAvgVld vld test iter=0.706 0.70 0.70 112\n",
      "w 151 2.9e-08 err%Trn vld test=0.00 0.77 0.63 lr=5.3e-04 bstAvgVld vld test iter=0.706 0.70 0.70 112\n",
      "w 152 2.2e-08 err%Trn vld test=0.00 0.77 0.66 lr=5.3e-04 bstAvgVld vld test iter=0.706 0.70 0.70 112\n",
      "w 153 1.6e-08 err%Trn vld test=0.00 0.75 0.66 lr=5.3e-04 bstAvgVld vld test iter=0.706 0.70 0.70 112\n",
      "w 154 1.2e-08 err%Trn vld test=0.00 0.76 0.66 lr=5.3e-04 bstAvgVld vld test iter=0.706 0.70 0.70 112\n",
      "w 155 9.3e-09 err%Trn vld test=0.00 0.74 0.64 lr=5.3e-04 bstAvgVld vld test iter=0.706 0.70 0.70 112\n",
      "w 156 6.7e-09 err%Trn vld test=0.00 0.77 0.67 lr=5.3e-04 bstAvgVld vld test iter=0.706 0.70 0.70 112\n",
      "w 157 7.1e-09 err%Trn vld test=0.00 0.79 0.66 lr=5.3e-04 bstAvgVld vld test iter=0.706 0.70 0.70 112\n",
      "w 158 5.0e-09 err%Trn vld test=0.00 0.77 0.67 lr=5.3e-04 bstAvgVld vld test iter=0.706 0.70 0.70 112\n",
      "w 159 2.5e-08 err%Trn vld test=0.00 0.78 0.63 lr=5.3e-04 bstAvgVld vld test iter=0.706 0.70 0.70 112\n",
      "w 160 8.1e-03 err%Trn vld test=0.18 1.02 0.84 lr=5.3e-04 bstAvgVld vld test iter=0.706 0.70 0.70 112\n",
      "w 161 2.0e-03 err%Trn vld test=0.05 0.99 0.85 lr=4.8e-04 bstAvgVld vld test iter=0.706 0.70 0.70 112\n",
      "w 162 5.1e-04 err%Trn vld test=0.02 0.87 0.67 lr=4.8e-04 bstAvgVld vld test iter=0.706 0.70 0.70 112\n",
      "w 163 2.5e-04 err%Trn vld test=0.00 0.87 0.65 lr=4.8e-04 bstAvgVld vld test iter=0.706 0.70 0.70 112\n",
      "w 164 7.4e-06 err%Trn vld test=0.00 0.87 0.66 lr=4.8e-04 bstAvgVld vld test iter=0.706 0.70 0.70 112\n"
     ]
    },
    {
     "name": "stdout",
     "output_type": "stream",
     "text": [
      "w 165 9.1e-07 err%Trn vld test=0.00 0.87 0.66 lr=4.8e-04 bstAvgVld vld test iter=0.706 0.70 0.70 112\n",
      "w 166 7.2e-07 err%Trn vld test=0.00 0.85 0.66 lr=4.8e-04 bstAvgVld vld test iter=0.706 0.70 0.70 112\n",
      "w 167 6.0e-07 err%Trn vld test=0.00 0.84 0.67 lr=4.8e-04 bstAvgVld vld test iter=0.706 0.70 0.70 112\n",
      "w 168 5.0e-07 err%Trn vld test=0.00 0.84 0.66 lr=4.8e-04 bstAvgVld vld test iter=0.706 0.70 0.70 112\n",
      "w 169 4.2e-07 err%Trn vld test=0.00 0.84 0.66 lr=4.8e-04 bstAvgVld vld test iter=0.706 0.70 0.70 112\n",
      "w 170 3.6e-07 err%Trn vld test=0.00 0.84 0.66 lr=4.8e-04 bstAvgVld vld test iter=0.706 0.70 0.70 112\n",
      "w 171 3.1e-07 err%Trn vld test=0.00 0.82 0.66 lr=4.8e-04 bstAvgVld vld test iter=0.706 0.70 0.70 112\n",
      "w 172 2.7e-07 err%Trn vld test=0.00 0.83 0.66 lr=4.8e-04 bstAvgVld vld test iter=0.706 0.70 0.70 112\n",
      "w 173 2.4e-07 err%Trn vld test=0.00 0.83 0.64 lr=4.8e-04 bstAvgVld vld test iter=0.706 0.70 0.70 112\n",
      "w 174 2.1e-07 err%Trn vld test=0.00 0.83 0.64 lr=4.8e-04 bstAvgVld vld test iter=0.706 0.70 0.70 112\n",
      "w 175 1.8e-07 err%Trn vld test=0.00 0.83 0.63 lr=4.8e-04 bstAvgVld vld test iter=0.706 0.70 0.70 112\n",
      "w 176 1.6e-07 err%Trn vld test=0.00 0.83 0.61 lr=4.8e-04 bstAvgVld vld test iter=0.706 0.70 0.70 112\n",
      "w 177 1.4e-07 err%Trn vld test=0.00 0.84 0.61 lr=4.8e-04 bstAvgVld vld test iter=0.706 0.70 0.70 112\n",
      "w 178 1.2e-07 err%Trn vld test=0.00 0.83 0.60 lr=4.8e-04 bstAvgVld vld test iter=0.706 0.70 0.70 112\n",
      "w 179 1.0e-07 err%Trn vld test=0.00 0.83 0.59 lr=4.8e-04 bstAvgVld vld test iter=0.706 0.70 0.70 112\n",
      "w 180 9.0e-08 err%Trn vld test=0.00 0.82 0.59 lr=4.8e-04 bstAvgVld vld test iter=0.706 0.70 0.70 112\n",
      "w 181 7.7e-08 err%Trn vld test=0.00 0.82 0.60 lr=4.8e-04 bstAvgVld vld test iter=0.706 0.70 0.70 112\n",
      "w 182 6.7e-08 err%Trn vld test=0.00 0.82 0.60 lr=4.8e-04 bstAvgVld vld test iter=0.706 0.70 0.70 112\n",
      "w 183 5.8e-08 err%Trn vld test=0.00 0.82 0.61 lr=4.8e-04 bstAvgVld vld test iter=0.706 0.70 0.70 112\n",
      "w 184 5.0e-08 err%Trn vld test=0.00 0.82 0.61 lr=4.8e-04 bstAvgVld vld test iter=0.706 0.70 0.70 112\n",
      "w 185 4.3e-08 err%Trn vld test=0.00 0.82 0.61 lr=4.8e-04 bstAvgVld vld test iter=0.706 0.70 0.70 112\n",
      "w 186 3.7e-08 err%Trn vld test=0.00 0.81 0.61 lr=4.8e-04 bstAvgVld vld test iter=0.706 0.70 0.70 112\n",
      "w 187 3.2e-08 err%Trn vld test=0.00 0.81 0.62 lr=4.8e-04 bstAvgVld vld test iter=0.706 0.70 0.70 112\n",
      "w 188 2.7e-08 err%Trn vld test=0.00 0.81 0.62 lr=4.8e-04 bstAvgVld vld test iter=0.706 0.70 0.70 112\n",
      "w 189 2.3e-08 err%Trn vld test=0.00 0.81 0.62 lr=4.8e-04 bstAvgVld vld test iter=0.706 0.70 0.70 112\n",
      "w 190 2.0e-08 err%Trn vld test=0.00 0.81 0.62 lr=4.8e-04 bstAvgVld vld test iter=0.706 0.70 0.70 112\n",
      "w 191 1.7e-08 err%Trn vld test=0.00 0.81 0.61 lr=4.8e-04 bstAvgVld vld test iter=0.706 0.70 0.70 112\n",
      "w 192 1.4e-08 err%Trn vld test=0.00 0.81 0.61 lr=4.8e-04 bstAvgVld vld test iter=0.706 0.70 0.70 112\n",
      "w 193 1.2e-08 err%Trn vld test=0.00 0.81 0.61 lr=4.8e-04 bstAvgVld vld test iter=0.706 0.70 0.70 112\n",
      "w 194 1.0e-08 err%Trn vld test=0.00 0.79 0.61 lr=4.8e-04 bstAvgVld vld test iter=0.706 0.70 0.70 112\n",
      "w 195 8.6e-09 err%Trn vld test=0.00 0.79 0.61 lr=4.8e-04 bstAvgVld vld test iter=0.706 0.70 0.70 112\n",
      "w 196 7.2e-09 err%Trn vld test=0.00 0.79 0.61 lr=4.8e-04 bstAvgVld vld test iter=0.706 0.70 0.70 112\n",
      "w 197 5.9e-09 err%Trn vld test=0.00 0.78 0.61 lr=4.8e-04 bstAvgVld vld test iter=0.706 0.70 0.70 112\n",
      "w 198 5.0e-09 err%Trn vld test=0.00 0.78 0.60 lr=4.8e-04 bstAvgVld vld test iter=0.706 0.70 0.70 112\n",
      "w 199 3.8e-09 err%Trn vld test=0.00 0.78 0.62 lr=4.8e-04 bstAvgVld vld test iter=0.706 0.70 0.70 112\n",
      "w 200 3.2e-09 err%Trn vld test=0.00 0.77 0.59 lr=4.8e-04 bstAvgVld vld test iter=0.706 0.70 0.70 112\n",
      "w 201 2.5e-09 err%Trn vld test=0.00 0.76 0.60 lr=4.8e-04 bstAvgVld vld test iter=0.706 0.70 0.70 112\n",
      "w 202 1.8e-09 err%Trn vld test=0.00 0.75 0.60 lr=4.8e-04 bstAvgVld vld test iter=0.706 0.70 0.70 112\n",
      "w 203 1.2e-09 err%Trn vld test=0.00 0.73 0.59 lr=4.8e-04 bstAvgVld vld test iter=0.706 0.70 0.70 112\n",
      "w 204 7.7e-10 err%Trn vld test=0.00 0.74 0.59 lr=4.8e-04 bstAvgVld vld test iter=0.706 0.70 0.70 112\n",
      "w 205 1.0e-09 err%Trn vld test=0.00 0.75 0.59 lr=4.8e-04 bstAvgVld vld test iter=0.706 0.70 0.70 112\n",
      "w 206 9.3e-10 err%Trn vld test=0.00 0.74 0.62 lr=4.8e-04 bstAvgVld vld test iter=0.706 0.70 0.70 112\n",
      "w 207 6.4e-03 err%Trn vld test=0.09 1.02 1.13 lr=4.8e-04 bstAvgVld vld test iter=0.706 0.70 0.70 112\n",
      "w 208 4.0e-03 err%Trn vld test=0.10 0.90 0.77 lr=4.8e-04 bstAvgVld vld test iter=0.706 0.70 0.70 112\n",
      "w 209 6.6e-04 err%Trn vld test=0.01 0.91 0.83 lr=4.8e-04 bstAvgVld vld test iter=0.706 0.70 0.70 112\n",
      "w 210 9.3e-05 err%Trn vld test=0.00 0.85 0.79 lr=4.8e-04 bstAvgVld vld test iter=0.706 0.70 0.70 112\n",
      "w 211 1.1e-04 err%Trn vld test=0.01 0.84 0.89 lr=4.8e-04 bstAvgVld vld test iter=0.706 0.70 0.70 112\n",
      "w 212 2.0e-04 err%Trn vld test=0.01 0.76 0.73 lr=4.8e-04 bstAvgVld vld test iter=0.706 0.70 0.70 112\n",
      "w 213 3.9e-05 err%Trn vld test=0.00 0.81 0.82 lr=4.3e-04 bstAvgVld vld test iter=0.706 0.70 0.70 112\n",
      "w 214 9.4e-07 err%Trn vld test=0.00 0.81 0.82 lr=4.3e-04 bstAvgVld vld test iter=0.706 0.70 0.70 112\n",
      "w 215 4.1e-07 err%Trn vld test=0.00 0.81 0.83 lr=4.3e-04 bstAvgVld vld test iter=0.706 0.70 0.70 112\n",
      "w 216 3.0e-07 err%Trn vld test=0.00 0.80 0.81 lr=4.3e-04 bstAvgVld vld test iter=0.706 0.70 0.70 112\n",
      "w 217 2.4e-07 err%Trn vld test=0.00 0.80 0.80 lr=4.3e-04 bstAvgVld vld test iter=0.706 0.70 0.70 112\n",
      "w 218 1.9e-07 err%Trn vld test=0.00 0.80 0.79 lr=4.3e-04 bstAvgVld vld test iter=0.706 0.70 0.70 112\n",
      "w 219 1.5e-07 err%Trn vld test=0.00 0.78 0.79 lr=4.3e-04 bstAvgVld vld test iter=0.706 0.70 0.70 112\n",
      "w 220 1.3e-07 err%Trn vld test=0.00 0.79 0.79 lr=4.3e-04 bstAvgVld vld test iter=0.706 0.70 0.70 112\n",
      "w 221 1.1e-07 err%Trn vld test=0.00 0.80 0.78 lr=4.3e-04 bstAvgVld vld test iter=0.706 0.70 0.70 112\n",
      "w 222 8.8e-08 err%Trn vld test=0.00 0.80 0.77 lr=4.3e-04 bstAvgVld vld test iter=0.706 0.70 0.70 112\n",
      "w 223 7.5e-08 err%Trn vld test=0.00 0.77 0.78 lr=4.3e-04 bstAvgVld vld test iter=0.706 0.70 0.70 112\n",
      "w 224 6.4e-08 err%Trn vld test=0.00 0.77 0.76 lr=4.3e-04 bstAvgVld vld test iter=0.706 0.70 0.70 112\n",
      "w 225 5.6e-08 err%Trn vld test=0.00 0.77 0.76 lr=4.3e-04 bstAvgVld vld test iter=0.706 0.70 0.70 112\n",
      "w 226 4.9e-08 err%Trn vld test=0.00 0.77 0.74 lr=4.3e-04 bstAvgVld vld test iter=0.706 0.70 0.70 112\n",
      "w 227 4.3e-08 err%Trn vld test=0.00 0.77 0.74 lr=4.3e-04 bstAvgVld vld test iter=0.706 0.70 0.70 112\n",
      "w 228 3.8e-08 err%Trn vld test=0.00 0.77 0.74 lr=4.3e-04 bstAvgVld vld test iter=0.706 0.70 0.70 112\n",
      "w 229 3.3e-08 err%Trn vld test=0.00 0.76 0.74 lr=4.3e-04 bstAvgVld vld test iter=0.706 0.70 0.70 112\n",
      "w 230 2.9e-08 err%Trn vld test=0.00 0.77 0.73 lr=4.3e-04 bstAvgVld vld test iter=0.706 0.70 0.70 112\n",
      "w 231 2.6e-08 err%Trn vld test=0.00 0.76 0.72 lr=4.3e-04 bstAvgVld vld test iter=0.706 0.70 0.70 112\n",
      "w 232 2.2e-08 err%Trn vld test=0.00 0.77 0.72 lr=4.3e-04 bstAvgVld vld test iter=0.706 0.70 0.70 112\n",
      "w 233 2.0e-08 err%Trn vld test=0.00 0.76 0.72 lr=4.3e-04 bstAvgVld vld test iter=0.706 0.70 0.70 112\n",
      "w 234 1.7e-08 err%Trn vld test=0.00 0.76 0.72 lr=4.3e-04 bstAvgVld vld test iter=0.706 0.70 0.70 112\n",
      "w 235 1.5e-08 err%Trn vld test=0.00 0.75 0.71 lr=4.3e-04 bstAvgVld vld test iter=0.706 0.70 0.70 112\n",
      "w 236 1.3e-08 err%Trn vld test=0.00 0.74 0.70 lr=4.3e-04 bstAvgVld vld test iter=0.706 0.70 0.70 112\n",
      "w 237 1.1e-08 err%Trn vld test=0.00 0.74 0.69 lr=4.3e-04 bstAvgVld vld test iter=0.706 0.70 0.70 112\n",
      "w 238 9.8e-09 err%Trn vld test=0.00 0.73 0.69 lr=4.3e-04 bstAvgVld vld test iter=0.706 0.70 0.70 112\n",
      "w 239 8.3e-09 err%Trn vld test=0.00 0.74 0.69 lr=4.3e-04 bstAvgVld vld test iter=0.706 0.70 0.70 112\n",
      "w 240 7.2e-09 err%Trn vld test=0.00 0.73 0.69 lr=4.3e-04 bstAvgVld vld test iter=0.706 0.70 0.70 112\n",
      "w 241 6.2e-09 err%Trn vld test=0.00 0.73 0.69 lr=4.3e-04 bstAvgVld vld test iter=0.706 0.70 0.70 112\n",
      "w 242 5.2e-09 err%Trn vld test=0.00 0.73 0.69 lr=4.3e-04 bstAvgVld vld test iter=0.706 0.70 0.70 112\n",
      "w 243 4.5e-09 err%Trn vld test=0.00 0.73 0.69 lr=4.3e-04 bstAvgVld vld test iter=0.706 0.70 0.70 112\n",
      "w 244 3.8e-09 err%Trn vld test=0.00 0.73 0.69 lr=4.3e-04 bstAvgVld vld test iter=0.706 0.70 0.70 112\n",
      "w 245 3.1e-09 err%Trn vld test=0.00 0.73 0.68 lr=4.3e-04 bstAvgVld vld test iter=0.706 0.70 0.70 112\n",
      "w 246 2.5e-09 err%Trn vld test=0.00 0.73 0.69 lr=4.3e-04 bstAvgVld vld test iter=0.706 0.70 0.70 112\n"
     ]
    },
    {
     "name": "stdout",
     "output_type": "stream",
     "text": [
      "w 247 2.0e-09 err%Trn vld test=0.00 0.73 0.69 lr=4.3e-04 bstAvgVld vld test iter=0.706 0.70 0.70 112\n",
      "w 248 1.5e-09 err%Trn vld test=0.00 0.73 0.69 lr=4.3e-04 bstAvgVld vld test iter=0.706 0.70 0.70 112\n",
      "w 249 1.1e-09 err%Trn vld test=0.00 0.73 0.69 lr=4.3e-04 bstAvgVld vld test iter=0.706 0.70 0.70 112\n",
      "w 250 8.9e-10 err%Trn vld test=0.00 0.72 0.69 lr=4.3e-04 bstAvgVld vld test iter=0.706 0.70 0.70 112\n",
      "w 251 6.9e-10 err%Trn vld test=0.00 0.72 0.68 lr=4.3e-04 bstAvgVld vld test iter=0.706 0.70 0.70 112\n",
      "w 252 4.7e-10 err%Trn vld test=0.00 0.72 0.68 lr=4.3e-04 bstAvgVld vld test iter=0.706 0.70 0.70 112\n",
      "w 253 3.2e-10 err%Trn vld test=0.00 0.72 0.69 lr=4.3e-04 bstAvgVld vld test iter=0.706 0.70 0.70 112\n",
      "w 254 2.6e-10 err%Trn vld test=0.00 0.72 0.68 lr=4.3e-04 bstAvgVld vld test iter=0.706 0.70 0.70 112\n",
      "w 255 1.2e-10 err%Trn vld test=0.00 0.71 0.69 lr=4.3e-04 bstAvgVld vld test iter=0.706 0.70 0.70 112\n",
      "w 256 1.3e-10 err%Trn vld test=0.00 0.71 0.69 lr=4.3e-04 bstAvgVld vld test iter=0.706 0.70 0.70 112\n",
      "w 257 1.1e-10 err%Trn vld test=0.00 0.72 0.68 lr=4.3e-04 bstAvgVld vld test iter=0.706 0.70 0.70 112\n",
      "w 258 6.2e-11 err%Trn vld test=0.00 0.71 0.67 lr=4.3e-04 bstAvgVld vld test iter=0.706 0.70 0.70 112\n",
      "w 259 2.1e-11 err%Trn vld test=0.00 0.70 0.66 lr=4.3e-04 bstAvgVld vld test iter=0.706 0.70 0.70 112\n",
      "w 260 2.1e-11 err%Trn vld test=0.00 0.70 0.66 lr=4.3e-04 bstAvgVld vld test iter=0.706 0.70 0.70 112\n",
      "w 261 3.8e-11 err%Trn vld test=0.00 0.72 0.68 lr=4.3e-04 bstAvgVld vld test iter=0.706 0.70 0.70 112\n",
      "w 262 0.0e+00 err%Trn vld test=0.00 0.72 0.68 lr=3.9e-04 bstAvgVld vld test iter=0.706 0.70 0.70 112\n"
     ]
    }
   ],
   "source": [
    "history=History()\n",
    "history,besttesterr,bestatepoch=z_step(history)\n",
    "torch.save(history, '{}-history.ckpt'.format(FLAGS.save_name) )"
   ]
  },
  {
   "cell_type": "code",
   "execution_count": 20,
   "metadata": {},
   "outputs": [
    {
     "data": {
      "text/plain": [
       "Text(112,0.7,'0.700')"
      ]
     },
     "execution_count": 20,
     "metadata": {},
     "output_type": "execute_result"
    },
    {
     "data": {
      "image/png": "[encoded data removed]",
      "text/plain": [
       "<Figure size 432x288 with 1 Axes>"
      ]
     },
     "metadata": {},
     "output_type": "display_data"
    }
   ],
   "source": [
    "import matplotlib.pyplot\n",
    "matplotlib.pyplot.plot(history.testerr)\n",
    "matplotlib.pyplot.plot(history.validerr)\n",
    "\n",
    "y=history.testerr\n",
    "x=len(y)-1\n",
    "matplotlib.pyplot.plot(x,y[x],'x',color='r')\n",
    "matplotlib.pyplot.annotate( '{:.3f}'.format(y[x]),xy=(x,y[x]))\n",
    "\n",
    "x=bestatepoch\n",
    "matplotlib.pyplot.plot(x,y[x],'x',color='r')\n",
    "matplotlib.pyplot.annotate( '{:.3f}'.format(y[x]),xy=(x,y[x]))\n",
    "\n",
    "#matplotlib.pyplot.ylim([0.5,3.0])\n"
   ]
  },
  {
   "cell_type": "code",
   "execution_count": 21,
   "metadata": {},
   "outputs": [
    {
     "data": {
      "text/plain": [
       "[<matplotlib.lines.Line2D at 0x7fd5850ae278>]"
      ]
     },
     "execution_count": 21,
     "metadata": {},
     "output_type": "execute_result"
    },
    {
     "data": {
      "image/png": "[encoded data removed]",
      "text/plain": [
       "<Figure size 432x288 with 1 Axes>"
      ]
     },
     "metadata": {},
     "output_type": "display_data"
    }
   ],
   "source": [
    "import matplotlib.pyplot\n",
    "matplotlib.pyplot.plot(history.loss)\n",
    "#matplotlib.pyplot.ylim([0,0.04])"
   ]
  },
  {
   "cell_type": "markdown",
   "metadata": {},
   "source": [
    "# load"
   ]
  },
  {
   "cell_type": "code",
   "execution_count": 18,
   "metadata": {},
   "outputs": [
    {
     "name": "stdout",
     "output_type": "stream",
     "text": [
      "0.7\n"
     ]
    },
    {
     "data": {
      "text/plain": [
       "Text(112,0.7,'0.700')"
      ]
     },
     "execution_count": 18,
     "metadata": {},
     "output_type": "execute_result"
    },
    {
     "data": {
      "image/png": "[encoded data removed]",
      "text/plain": [
       "<Figure size 432x288 with 1 Axes>"
      ]
     },
     "metadata": {},
     "output_type": "display_data"
    }
   ],
   "source": [
    "class History(object):\n",
    "    def __init__(self):\n",
    "        self.loss=[]\n",
    "        self.regloss=[]\n",
    "        self.totalloss=[]\n",
    "        self.testerr=[]  \n",
    "        \n",
    "import torch\n",
    "file='mnist_lenet5_map_avgover_alpha0-history.ckpt'\n",
    "history=torch.load(file)\n",
    "\n",
    "\n",
    "import matplotlib.pyplot\n",
    "matplotlib.pyplot.plot(history.testerr)\n",
    "matplotlib.pyplot.plot(history.validerr)\n",
    "\n",
    "y=history.testerr\n",
    "x=len(y)-1\n",
    "matplotlib.pyplot.plot(x,y[x],'x',color='r')\n",
    "matplotlib.pyplot.annotate( '{:.3f}'.format(y[x]),xy=(x,y[x]))\n",
    "\n",
    "\n",
    "resumefile='mnist_lenet5_map_avgover_alpha0-statedict-bestvalid.ckpt'\n",
    "resume_dict = torch.load(resumefile, map_location='cpu')\n",
    "ard_keys, resume_keys = list(model.state_dict().keys()), list(resume_dict['statedict'].keys())\n",
    "for i in range(len(ard_keys)):\n",
    "    model.state_dict()[ard_keys[i]].copy_(resume_dict['statedict'][resume_keys[i]])\n",
    "    \n",
    "testloss,testerr=oneThroughdataset_test(test_loader)\n",
    "print(testerr)\n",
    "\n",
    "\n",
    "x=resume_dict['witer']\n",
    "matplotlib.pyplot.plot(x,y[x],'x',color='r')\n",
    "matplotlib.pyplot.annotate( '{:.3f}'.format(y[x]),xy=(x,y[x]))\n"
   ]
  },
  {
   "cell_type": "code",
   "execution_count": null,
   "metadata": {},
   "outputs": [],
   "source": []
  }
 ],
 "metadata": {
  "kernelspec": {
   "display_name": "Python 3",
   "language": "python",
   "name": "python3"
  },
  "language_info": {
   "codemirror_mode": {
    "name": "ipython",
    "version": 3
   },
   "file_extension": ".py",
   "mimetype": "text/x-python",
   "name": "python",
   "nbconvert_exporter": "python",
   "pygments_lexer": "ipython3",
   "version": "3.6.7"
  }
 },
 "nbformat": 4,
 "nbformat_minor": 2
}
